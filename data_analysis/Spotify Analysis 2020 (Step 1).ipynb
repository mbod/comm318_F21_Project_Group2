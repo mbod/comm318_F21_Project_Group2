{
 "cells": [
  {
   "cell_type": "markdown",
   "id": "c4d4900a",
   "metadata": {},
   "source": [
    "# Exploring The Most Popular Songs On Spotify In America, In 2020 #\n",
    "\n",
    "This dataset represents the top 50 most popular songs on Spotify in America in 2020, as measured by Spotify and released to the public via an [ordered playlist](https://open.spotify.com/user/spotify/playlist/37i9dQZF1DXaqCgtv7ZR3L?si=K4BLJsyXSy-j0cSED9FjgQ) at the end of the year . Spotify maintains a large amounts of track-level data for songs on the platform, including both objective measures (i.e. duration of song) and Spotify-defined metrics created using machine learning functions (i.e. danceability). The below dataset was acquired using Spotipy, a package which allows one to work with Spotify's API to gather such track-level data. \n",
    "\n",
    "My notebook which used Spotipy to gather the dataset is titled \"Spotify Initial Data Collection.ipynb\"; it is also in the data_analysis folder. In this notebook, I will call upon the already-developed dataset and begin cleaning and examining the dataset. \n",
    "\n",
    "Source: Spotify Web API, [Spotify Top Tracks of 2020 USA](https://open.spotify.com/user/spotify/playlist/37i9dQZF1DXaqCgtv7ZR3L?si=eAq2hBqrTR-s5M99y-vQeQ)\n",
    "\n",
    "Downloaded: 11/14/2021\n",
    "\n",
    "Srinidhi Ramakrishna"
   ]
  },
  {
   "cell_type": "code",
   "execution_count": 1,
   "id": "69b8c874",
   "metadata": {},
   "outputs": [],
   "source": [
    "import pandas as pd"
   ]
  },
  {
   "cell_type": "code",
   "execution_count": 2,
   "id": "c885bf7c",
   "metadata": {},
   "outputs": [],
   "source": [
    "spotifytop2020 = pd.read_csv(\"../data/Clean/spotifytop2020cleaned.csv\")"
   ]
  },
  {
   "cell_type": "markdown",
   "id": "fee670f8",
   "metadata": {},
   "source": [
    "### Data Exploration and Analysis ###"
   ]
  },
  {
   "cell_type": "code",
   "execution_count": 3,
   "id": "97c33837",
   "metadata": {},
   "outputs": [
    {
     "data": {
      "text/plain": [
       "Juice WRLD       7\n",
       "Travis Scott     3\n",
       "Roddy Ricch      2\n",
       "Harry Styles     2\n",
       "Lewis Capaldi    2\n",
       "Drake            2\n",
       "Jack Harlow      2\n",
       "Post Malone      2\n",
       "DaBaby           2\n",
       "NLE Choppa       1\n",
       "Name: artist, dtype: int64"
      ]
     },
     "execution_count": 3,
     "metadata": {},
     "output_type": "execute_result"
    }
   ],
   "source": [
    "spotifytop2020['artist'].value_counts().head(10)"
   ]
  },
  {
   "cell_type": "markdown",
   "id": "79463c91",
   "metadata": {},
   "source": [
    "Here, I observe that certain artists (namely Juice WRLD, Travis Scott, and others) have outsize representation in this dataset - in other words, they had multiple tracks make it to the top 50 most-streamed tracks in the US on Spotify."
   ]
  },
  {
   "cell_type": "code",
   "execution_count": 4,
   "id": "8c08dd3a",
   "metadata": {},
   "outputs": [
    {
     "data": {
      "text/plain": [
       "danceability    0.729\n",
       "acousticness    0.239\n",
       "energy          0.600\n",
       "speechiness     0.130\n",
       "valence         0.508\n",
       "dtype: float64"
      ]
     },
     "execution_count": 4,
     "metadata": {},
     "output_type": "execute_result"
    }
   ],
   "source": [
    "keycols = ['danceability', 'acousticness', 'energy', 'speechiness', 'valence']\n",
    "\n",
    "round(spotifytop2020[keycols].mean(), 3)"
   ]
  },
  {
   "cell_type": "markdown",
   "id": "c7e596bb",
   "metadata": {},
   "source": [
    "Here, I take the mean of a variety of the most important columns. For example, the mean energy of the top 50 most popular songs on Spotify in the US in 2020 was 0.6 out of 1. These will likely only become truly useful when placed in comparison to similar means from a dataset measuring songs popular on Billboard. "
   ]
  },
  {
   "cell_type": "code",
   "execution_count": 5,
   "id": "87a96552",
   "metadata": {},
   "outputs": [
    {
     "name": "stdout",
     "output_type": "stream",
     "text": [
      "danceability\n",
      "                              name\n",
      "8  WAP (feat. Megan Thee Stallion)\n",
      "acousticness\n",
      "                   name\n",
      "30  everything i wanted\n",
      "energy\n",
      "               name\n",
      "7  Watermelon Sugar\n",
      "speechiness\n",
      "                         name\n",
      "4  Life Is Good (feat. Drake)\n",
      "valence\n",
      "                                             name\n",
      "19  Sunflower - Spider-Man: Into the Spider-Verse\n"
     ]
    }
   ],
   "source": [
    "for i in keycols:\n",
    "    print(i)\n",
    "    print(spotifytop2020[spotifytop2020[i] == spotifytop2020[i].max()][['name']])"
   ]
  },
  {
   "cell_type": "markdown",
   "id": "f4573529",
   "metadata": {},
   "source": [
    "Here, I display the songs which represent the maximum quantities of the same columns. For readability:   \n",
    "- WAP is the song with the most danceability.\n",
    "- everything I wanted is the song with the most acousticness.\n",
    "- Watermelon Sugar is the song with the most energy.\n",
    "- Life Is Good is the song with the most speechiness.\n",
    "- Sunflower is the song with the most valence, or positiveness."
   ]
  },
  {
   "cell_type": "code",
   "execution_count": 6,
   "id": "59f2f943",
   "metadata": {},
   "outputs": [
    {
     "data": {
      "text/plain": [
       "197.94022"
      ]
     },
     "execution_count": 6,
     "metadata": {},
     "output_type": "execute_result"
    }
   ],
   "source": [
    "spotifytop2020['duration_sec'].mean()"
   ]
  },
  {
   "cell_type": "markdown",
   "id": "736522ef",
   "metadata": {},
   "source": [
    "The mean duration of songs in this dataset is ~198 seconds (3:18). Let's visualize the distribution of song lengths in this dataset."
   ]
  },
  {
   "cell_type": "code",
   "execution_count": 7,
   "id": "e7fc90a5",
   "metadata": {},
   "outputs": [
    {
     "data": {
      "image/png": "[encoded data removed]",
      "text/plain": [
       "<Figure size 432x288 with 1 Axes>"
      ]
     },
     "metadata": {
      "needs_background": "light"
     },
     "output_type": "display_data"
    }
   ],
   "source": [
    "spotifytop2020['duration_sec'].plot(kind='hist', bins=10);"
   ]
  },
  {
   "cell_type": "markdown",
   "id": "741036df",
   "metadata": {},
   "source": [
    "This plot shows that a majority of songs seem to cluster between 160 and 180 seconds (2:40 - 3 minutes). The distribution is negatively skewed. \n",
    "\n",
    "Let's make a similar plot which shows the distribution of danceability."
   ]
  },
  {
   "cell_type": "code",
   "execution_count": 8,
   "id": "0b2fb3b9",
   "metadata": {},
   "outputs": [
    {
     "data": {
      "image/png": "[encoded data removed]",
      "text/plain": [
       "<Figure size 432x288 with 1 Axes>"
      ]
     },
     "metadata": {
      "needs_background": "light"
     },
     "output_type": "display_data"
    }
   ],
   "source": [
    "spotifytop2020['danceability'].plot(kind='hist', bins=10);"
   ]
  },
  {
   "cell_type": "markdown",
   "id": "b029ff7a",
   "metadata": {},
   "source": [
    "This distribution is positively skewed; the most songs cluster around the 0.8 mark of danceability.\n",
    "\n",
    "Out of curiosity, I wonder how the explicit nature of a song would or would not impact some of these metrics."
   ]
  },
  {
   "cell_type": "code",
   "execution_count": 9,
   "id": "bc3c6d09",
   "metadata": {},
   "outputs": [
    {
     "data": {
      "text/html": [
       "<div>\n",
       "<style scoped>\n",
       "    .dataframe tbody tr th:only-of-type {\n",
       "        vertical-align: middle;\n",
       "    }\n",
       "\n",
       "    .dataframe tbody tr th {\n",
       "        vertical-align: top;\n",
       "    }\n",
       "\n",
       "    .dataframe thead th {\n",
       "        text-align: right;\n",
       "    }\n",
       "</style>\n",
       "<table border=\"1\" class=\"dataframe\">\n",
       "  <thead>\n",
       "    <tr style=\"text-align: right;\">\n",
       "      <th></th>\n",
       "      <th>energy</th>\n",
       "      <th>danceability</th>\n",
       "    </tr>\n",
       "    <tr>\n",
       "      <th>explicit</th>\n",
       "      <th></th>\n",
       "      <th></th>\n",
       "    </tr>\n",
       "  </thead>\n",
       "  <tbody>\n",
       "    <tr>\n",
       "      <th>False</th>\n",
       "      <td>0.564750</td>\n",
       "      <td>0.678687</td>\n",
       "    </tr>\n",
       "    <tr>\n",
       "      <th>True</th>\n",
       "      <td>0.617176</td>\n",
       "      <td>0.753088</td>\n",
       "    </tr>\n",
       "  </tbody>\n",
       "</table>\n",
       "</div>"
      ],
      "text/plain": [
       "            energy  danceability\n",
       "explicit                        \n",
       "False     0.564750      0.678687\n",
       "True      0.617176      0.753088"
      ]
     },
     "execution_count": 9,
     "metadata": {},
     "output_type": "execute_result"
    }
   ],
   "source": [
    "spotifytop2020.groupby('explicit')[['energy','danceability']].mean()"
   ]
  },
  {
   "cell_type": "markdown",
   "id": "ff6adab3",
   "metadata": {},
   "source": [
    "Interesting! This offers support to the idea that explicit songs are associated with higher energy and danceability than non-explicit songs. "
   ]
  },
  {
   "cell_type": "markdown",
   "id": "53c2a82d",
   "metadata": {},
   "source": [
    "After exploring this data, I have noticed that the Spotify data, in and of itself, is fairly clear. The main question I need to ponder over is the relevance of the ranking. Since these songs are already the most popular among a huge population, it does not seem as if the ranking (i.e. the 5th most popular vs the 11th) will yield any major differences in the corresponding metrics like energy, danceability, loudness, etc. Indeed, my exploratory line graphs attempting to index by ranking yielded no useful information. However, it is possible ranking will be useful when comparing performances of the same song across Spotify and Billboard charts, or when conducting case studies.\n",
    "\n",
    "Still, not much relevant information can be learned from the Spotify data alone beyond simple statistical observations. Our next priority now is therefore figuring out a way to look at both the Spotify and Billboard data to make meaningful comparisons by gathering the same metrics via Spotipy for songs which have charted on Billboard. "
   ]
  },
  {
   "cell_type": "code",
   "execution_count": null,
   "id": "941bd501",
   "metadata": {},
   "outputs": [],
   "source": []
  }
 ],
 "metadata": {
  "kernelspec": {
   "display_name": "Python 3 (COMM318)",
   "language": "python",
   "name": "python3"
  },
  "language_info": {
   "codemirror_mode": {
    "name": "ipython",
    "version": 3
   },
   "file_extension": ".py",
   "mimetype": "text/x-python",
   "name": "python",
   "nbconvert_exporter": "python",
   "pygments_lexer": "ipython3",
   "version": "3.8.8"
  }
 },
 "nbformat": 4,
 "nbformat_minor": 5
}
