{
 "cells": [
  {
   "cell_type": "markdown",
   "id": "0625af0a",
   "metadata": {},
   "source": [
    "### Spotify Initial Data Collection ###\n",
    "\n",
    "This code takes advantage of Spotipy, a package which allows one to use Spotify's API, to gather track-level data maintained by Spotify. It produces a dataset with information on each of the top 50 most popular songs on Spotify in America in 2020, as measured by Spotify and released to the public via an [ordered playlist](https://open.spotify.com/user/spotify/playlist/37i9dQZF1DXaqCgtv7ZR3L?si=K4BLJsyXSy-j0cSED9FjgQ) at the end of the year.\n",
    "\n",
    "Source: Spotify Web API, [Spotify Top Tracks of 2020 USA](https://open.spotify.com/user/spotify/playlist/37i9dQZF1DXaqCgtv7ZR3L?si=eAq2hBqrTR-s5M99y-vQeQ)\n",
    "\n",
    "Downloaded: 11/14/2021\n",
    "\n",
    "Srinidhi Ramakrishna"
   ]
  },
  {
   "cell_type": "code",
   "execution_count": 1,
   "id": "0ce5e5b4",
   "metadata": {},
   "outputs": [],
   "source": [
    "# Importing packages\n",
    "import spotipy\n",
    "import time\n",
    "import pandas as pd\n",
    "from spotipy.oauth2 import SpotifyClientCredentials"
   ]
  },
  {
   "cell_type": "code",
   "execution_count": 2,
   "id": "e34393a7",
   "metadata": {},
   "outputs": [],
   "source": [
    "# Locating my unique client and secret ID as a developer\n",
    "cid = '303cbc1ce8224ed0987dae7b34810613'\n",
    "secret = '91b877b5e37d44529d31a35da6e9461e'\n",
    "client_credentials_manager = SpotifyClientCredentials(client_id=cid, client_secret=secret)\n",
    "sp = spotipy.Spotify(client_credentials_manager = client_credentials_manager)"
   ]
  },
  {
   "cell_type": "code",
   "execution_count": 3,
   "id": "a0a2f479",
   "metadata": {},
   "outputs": [],
   "source": [
    "# Collecting track IDs based on the playlist URL\n",
    "def getTrackIDs(user, playlist_id):\n",
    "    ids = []\n",
    "    playlist = sp.user_playlist(user, playlist_id)\n",
    "    for item in playlist['tracks']['items']:\n",
    "        track = item['track']\n",
    "        ids.append(track['id'])\n",
    "    return ids\n",
    "\n",
    "ids = getTrackIDs('spotify', '37i9dQZF1DXaqCgtv7ZR3L')"
   ]
  },
  {
   "cell_type": "code",
   "execution_count": 4,
   "id": "28b353bd",
   "metadata": {},
   "outputs": [],
   "source": [
    "# Collecting track features for each song\n",
    "def getTrackFeatures(id):\n",
    "  meta = sp.track(id)\n",
    "  features = sp.audio_features(id)\n",
    "\n",
    "  # meta\n",
    "  name = meta['name']\n",
    "  album = meta['album']['name']\n",
    "  artist = meta['album']['artists'][0]['name']\n",
    "  release_date = meta['album']['release_date']\n",
    "  duration_ms = meta['duration_ms']\n",
    "  popularity = meta['popularity']\n",
    "  explicit = meta['explicit']\n",
    "    \n",
    "  # features\n",
    "  acousticness = features[0]['acousticness']\n",
    "  danceability = features[0]['danceability']\n",
    "  energy = features[0]['energy']\n",
    "  instrumentalness = features[0]['instrumentalness']\n",
    "  liveness = features[0]['liveness']\n",
    "  loudness = features[0]['loudness']\n",
    "  speechiness = features[0]['speechiness']\n",
    "  tempo = features[0]['tempo']\n",
    "  time_signature = features[0]['time_signature']\n",
    "  positiveness = features[0]['valence']\n",
    "\n",
    "\n",
    "  track = [name, album, artist, release_date, duration_ms, popularity, danceability, acousticness, danceability, energy, instrumentalness, liveness, loudness, speechiness, tempo, time_signature, positiveness, explicit]\n",
    "  return track"
   ]
  },
  {
   "cell_type": "code",
   "execution_count": 5,
   "id": "19b034e0",
   "metadata": {},
   "outputs": [],
   "source": [
    "# Looping over track ids to append track-level metrics in a new row \n",
    "tracks = []\n",
    "for i in range(len(ids)):\n",
    "  time.sleep(.5)\n",
    "  track = getTrackFeatures(ids[i])\n",
    "  tracks.append(track)"
   ]
  },
  {
   "cell_type": "code",
   "execution_count": 6,
   "id": "30f16ad1",
   "metadata": {},
   "outputs": [],
   "source": [
    "# Creating dataset\n",
    "df = pd.DataFrame(tracks, columns = ['name', 'album', 'artist', 'release_date', 'duration_ms', 'popularity', 'danceability', 'acousticness', 'danceability', 'energy', 'instrumentalness', 'liveness', 'loudness', 'speechiness', 'tempo', 'time_signature', 'positiveness', 'explicit'])\n",
    "df.to_csv(\"../data/spotify2020raw.csv\", sep = ',')"
   ]
  }
 ],
 "metadata": {
  "kernelspec": {
   "display_name": "Python 3 (COMM318)",
   "language": "python",
   "name": "python3"
  },
  "language_info": {
   "codemirror_mode": {
    "name": "ipython",
    "version": 3
   },
   "file_extension": ".py",
   "mimetype": "text/x-python",
   "name": "python",
   "nbconvert_exporter": "python",
   "pygments_lexer": "ipython3",
   "version": "3.8.8"
  }
 },
 "nbformat": 4,
 "nbformat_minor": 5
}
