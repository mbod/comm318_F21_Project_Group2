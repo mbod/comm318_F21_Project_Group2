{
 "cells": [
  {
   "cell_type": "markdown",
   "id": "6e813554",
   "metadata": {},
   "source": [
    "# Exploring The Most Popular Songs On Spotify In America, In 2017 #\n",
    "\n",
    "This dataset represents the top 98 most popular songs on Spotify in America in 2017, as measured by Spotify and released to the public via an [ordered playlist](https://open.spotify.com/user/spotify/playlist/37i9dQZF1DX7Axsg3uaDZb?si=Y25M-dckR5mSQuMenBNBxA) at the end of the year . Spotify maintains a large amounts of track-level data for songs on the platform, including both objective measures (i.e. duration of song) and Spotify-defined metrics created using machine learning functions (i.e. danceability). The below dataset was acquired using Spotipy, a package which allows one to work with Spotify's API to gather such track-level data. \n",
    "\n",
    "My notebook which used Spotipy to gather the dataset is titled \"Spotify Initial 2017 Data Collection.ipynb\"; it is also in the data_analysis folder. In this notebook, I will call upon the already-developed dataset and begin cleaning and examining the dataset. \n",
    "\n",
    "Source: Spotify Web API, [Spotify Top Tracks of 2017: USA](https://open.spotify.com/user/spotify/playlist/37i9dQZF1DX7Axsg3uaDZb?si=IAEexkHXRTGnpkaGpZ0Fxw)\n",
    "\n",
    "Downloaded: 11/22/2021\n",
    "\n",
    "Srinidhi Ramakrishna"
   ]
  },
  {
   "cell_type": "code",
   "execution_count": 1,
   "id": "085da27d",
   "metadata": {},
   "outputs": [],
   "source": [
    "import pandas as pd\n",
    "import matplotlib.pyplot as plt"
   ]
  },
  {
   "cell_type": "code",
   "execution_count": 2,
   "id": "d2a22d12",
   "metadata": {},
   "outputs": [],
   "source": [
    "spotifyraw2017 = pd.read_csv(\"../data/spotify2017raw.csv\")"
   ]
  },
  {
   "cell_type": "code",
   "execution_count": 3,
   "id": "1012434e",
   "metadata": {},
   "outputs": [
    {
     "data": {
      "text/html": [
       "<div>\n",
       "<style scoped>\n",
       "    .dataframe tbody tr th:only-of-type {\n",
       "        vertical-align: middle;\n",
       "    }\n",
       "\n",
       "    .dataframe tbody tr th {\n",
       "        vertical-align: top;\n",
       "    }\n",
       "\n",
       "    .dataframe thead th {\n",
       "        text-align: right;\n",
       "    }\n",
       "</style>\n",
       "<table border=\"1\" class=\"dataframe\">\n",
       "  <thead>\n",
       "    <tr style=\"text-align: right;\">\n",
       "      <th></th>\n",
       "      <th>Unnamed: 0</th>\n",
       "      <th>name</th>\n",
       "      <th>album</th>\n",
       "      <th>artist</th>\n",
       "      <th>release_date</th>\n",
       "      <th>duration_ms</th>\n",
       "      <th>popularity</th>\n",
       "      <th>danceability</th>\n",
       "      <th>acousticness</th>\n",
       "      <th>danceability.1</th>\n",
       "      <th>energy</th>\n",
       "      <th>instrumentalness</th>\n",
       "      <th>liveness</th>\n",
       "      <th>loudness</th>\n",
       "      <th>speechiness</th>\n",
       "      <th>tempo</th>\n",
       "      <th>time_signature</th>\n",
       "      <th>positiveness</th>\n",
       "      <th>explicit</th>\n",
       "    </tr>\n",
       "  </thead>\n",
       "  <tbody>\n",
       "    <tr>\n",
       "      <th>0</th>\n",
       "      <td>0</td>\n",
       "      <td>HUMBLE.</td>\n",
       "      <td>DAMN.</td>\n",
       "      <td>Kendrick Lamar</td>\n",
       "      <td>2017-04-14</td>\n",
       "      <td>177000</td>\n",
       "      <td>82</td>\n",
       "      <td>0.908</td>\n",
       "      <td>0.000282</td>\n",
       "      <td>0.908</td>\n",
       "      <td>0.621</td>\n",
       "      <td>0.000054</td>\n",
       "      <td>0.0958</td>\n",
       "      <td>-6.638</td>\n",
       "      <td>0.1020</td>\n",
       "      <td>150.011</td>\n",
       "      <td>4</td>\n",
       "      <td>0.421</td>\n",
       "      <td>True</td>\n",
       "    </tr>\n",
       "    <tr>\n",
       "      <th>1</th>\n",
       "      <td>1</td>\n",
       "      <td>XO Tour Llif3</td>\n",
       "      <td>Luv Is Rage 2</td>\n",
       "      <td>Lil Uzi Vert</td>\n",
       "      <td>2017-08-25</td>\n",
       "      <td>182706</td>\n",
       "      <td>83</td>\n",
       "      <td>0.732</td>\n",
       "      <td>0.002640</td>\n",
       "      <td>0.732</td>\n",
       "      <td>0.750</td>\n",
       "      <td>0.000000</td>\n",
       "      <td>0.1090</td>\n",
       "      <td>-6.366</td>\n",
       "      <td>0.2310</td>\n",
       "      <td>155.096</td>\n",
       "      <td>4</td>\n",
       "      <td>0.401</td>\n",
       "      <td>True</td>\n",
       "    </tr>\n",
       "    <tr>\n",
       "      <th>2</th>\n",
       "      <td>2</td>\n",
       "      <td>Shape of You</td>\n",
       "      <td>÷ (Deluxe)</td>\n",
       "      <td>Ed Sheeran</td>\n",
       "      <td>2017-03-03</td>\n",
       "      <td>233712</td>\n",
       "      <td>86</td>\n",
       "      <td>0.825</td>\n",
       "      <td>0.581000</td>\n",
       "      <td>0.825</td>\n",
       "      <td>0.652</td>\n",
       "      <td>0.000000</td>\n",
       "      <td>0.0931</td>\n",
       "      <td>-3.183</td>\n",
       "      <td>0.0802</td>\n",
       "      <td>95.977</td>\n",
       "      <td>4</td>\n",
       "      <td>0.931</td>\n",
       "      <td>False</td>\n",
       "    </tr>\n",
       "    <tr>\n",
       "      <th>3</th>\n",
       "      <td>3</td>\n",
       "      <td>Congratulations</td>\n",
       "      <td>Stoney (Deluxe)</td>\n",
       "      <td>Post Malone</td>\n",
       "      <td>2016-12-09</td>\n",
       "      <td>220293</td>\n",
       "      <td>82</td>\n",
       "      <td>0.630</td>\n",
       "      <td>0.215000</td>\n",
       "      <td>0.630</td>\n",
       "      <td>0.804</td>\n",
       "      <td>0.000000</td>\n",
       "      <td>0.2530</td>\n",
       "      <td>-4.183</td>\n",
       "      <td>0.0363</td>\n",
       "      <td>123.146</td>\n",
       "      <td>4</td>\n",
       "      <td>0.492</td>\n",
       "      <td>True</td>\n",
       "    </tr>\n",
       "    <tr>\n",
       "      <th>4</th>\n",
       "      <td>4</td>\n",
       "      <td>Despacito - Remix</td>\n",
       "      <td>Despacito Feat. Justin Bieber (Remix)</td>\n",
       "      <td>Luis Fonsi</td>\n",
       "      <td>2017-04-17</td>\n",
       "      <td>228826</td>\n",
       "      <td>2</td>\n",
       "      <td>0.694</td>\n",
       "      <td>0.229000</td>\n",
       "      <td>0.694</td>\n",
       "      <td>0.815</td>\n",
       "      <td>0.000000</td>\n",
       "      <td>0.0924</td>\n",
       "      <td>-4.328</td>\n",
       "      <td>0.1200</td>\n",
       "      <td>88.931</td>\n",
       "      <td>4</td>\n",
       "      <td>0.813</td>\n",
       "      <td>False</td>\n",
       "    </tr>\n",
       "  </tbody>\n",
       "</table>\n",
       "</div>"
      ],
      "text/plain": [
       "   Unnamed: 0               name                                  album  \\\n",
       "0           0            HUMBLE.                                  DAMN.   \n",
       "1           1      XO Tour Llif3                          Luv Is Rage 2   \n",
       "2           2       Shape of You                             ÷ (Deluxe)   \n",
       "3           3    Congratulations                        Stoney (Deluxe)   \n",
       "4           4  Despacito - Remix  Despacito Feat. Justin Bieber (Remix)   \n",
       "\n",
       "           artist release_date  duration_ms  popularity  danceability  \\\n",
       "0  Kendrick Lamar   2017-04-14       177000          82         0.908   \n",
       "1    Lil Uzi Vert   2017-08-25       182706          83         0.732   \n",
       "2      Ed Sheeran   2017-03-03       233712          86         0.825   \n",
       "3     Post Malone   2016-12-09       220293          82         0.630   \n",
       "4      Luis Fonsi   2017-04-17       228826           2         0.694   \n",
       "\n",
       "   acousticness  danceability.1  energy  instrumentalness  liveness  loudness  \\\n",
       "0      0.000282           0.908   0.621          0.000054    0.0958    -6.638   \n",
       "1      0.002640           0.732   0.750          0.000000    0.1090    -6.366   \n",
       "2      0.581000           0.825   0.652          0.000000    0.0931    -3.183   \n",
       "3      0.215000           0.630   0.804          0.000000    0.2530    -4.183   \n",
       "4      0.229000           0.694   0.815          0.000000    0.0924    -4.328   \n",
       "\n",
       "   speechiness    tempo  time_signature  positiveness  explicit  \n",
       "0       0.1020  150.011               4         0.421      True  \n",
       "1       0.2310  155.096               4         0.401      True  \n",
       "2       0.0802   95.977               4         0.931     False  \n",
       "3       0.0363  123.146               4         0.492      True  \n",
       "4       0.1200   88.931               4         0.813     False  "
      ]
     },
     "execution_count": 3,
     "metadata": {},
     "output_type": "execute_result"
    }
   ],
   "source": [
    "spotifyraw2017.head()"
   ]
  },
  {
   "cell_type": "markdown",
   "id": "03c50bce",
   "metadata": {},
   "source": [
    "Basic data frame examination, explaining the rows, columns, and dimensions, of the dataset, was completed in the notebook \"Spotify Analysis 2020 (Step 1)\"; thus, beyond displaying this dataset's dimensions, I will not repeat it. The columns are the same in both datasets, as are the meanings of the rows!"
   ]
  },
  {
   "cell_type": "code",
   "execution_count": 4,
   "id": "031d44d2",
   "metadata": {},
   "outputs": [
    {
     "data": {
      "text/plain": [
       "(98, 19)"
      ]
     },
     "execution_count": 4,
     "metadata": {},
     "output_type": "execute_result"
    }
   ],
   "source": [
    "spotifyraw2017.shape"
   ]
  },
  {
   "cell_type": "markdown",
   "id": "d1884f74",
   "metadata": {},
   "source": [
    "This dataset has 98 rows, each representing a different song, and 19 columns."
   ]
  },
  {
   "cell_type": "markdown",
   "id": "e7b0927b",
   "metadata": {},
   "source": [
    "### Data Cleaning ###"
   ]
  },
  {
   "cell_type": "markdown",
   "id": "a537f231",
   "metadata": {},
   "source": [
    "Here, I will quickly perform the same data cleanup steps as was performed in \"Spotify Analysis 2020 (Step 1)\". First, I will remove the 'popularity' and 'time_signature' columns. Notice that there is also a duplicate column (danceability.1 contains the same data values as danceability) - thus, I will also remove the danceability.1 column. \n",
    "\n",
    "Next, I will rename the row Unnamed: 0 to 'rank' to indicate that it represents popularity rankings of the songs in the dataset; since the most popular song is denoted as '0', I will add 1 to all values in this column so that the most popular song is denoted as '1', the 50th most popular song is denoted as 50, and so on and so forth. \n",
    "\n",
    "In addition, I will convert the duration_ms column from milliseconds to seconds for readability. "
   ]
  },
  {
   "cell_type": "code",
   "execution_count": 5,
   "id": "66ab91af",
   "metadata": {},
   "outputs": [],
   "source": [
    "# Dropping popularity and time signature\n",
    "spotifytop2017 = spotifyraw2017.drop(['popularity', 'time_signature', 'danceability.1'], axis = 1)\n",
    "\n",
    "# Setting rank column\n",
    "spotifytop2017 = spotifytop2017.rename(columns = {\"Unnamed: 0\": \"rank\"})\n",
    "spotifytop2017['rank'] = spotifytop2017['rank'] + 1\n",
    "\n",
    "# Converting and creating duration column\n",
    "spotifytop2017['duration_sec'] = spotifytop2017['duration_ms']/1000\n",
    "spotifytop2017 = spotifytop2017.drop(['duration_ms'], axis = 1)"
   ]
  },
  {
   "cell_type": "code",
   "execution_count": 6,
   "id": "78fc00e3",
   "metadata": {},
   "outputs": [
    {
     "data": {
      "text/html": [
       "<div>\n",
       "<style scoped>\n",
       "    .dataframe tbody tr th:only-of-type {\n",
       "        vertical-align: middle;\n",
       "    }\n",
       "\n",
       "    .dataframe tbody tr th {\n",
       "        vertical-align: top;\n",
       "    }\n",
       "\n",
       "    .dataframe thead th {\n",
       "        text-align: right;\n",
       "    }\n",
       "</style>\n",
       "<table border=\"1\" class=\"dataframe\">\n",
       "  <thead>\n",
       "    <tr style=\"text-align: right;\">\n",
       "      <th></th>\n",
       "      <th>rank</th>\n",
       "      <th>name</th>\n",
       "      <th>album</th>\n",
       "      <th>artist</th>\n",
       "      <th>release_date</th>\n",
       "      <th>danceability</th>\n",
       "      <th>acousticness</th>\n",
       "      <th>energy</th>\n",
       "      <th>instrumentalness</th>\n",
       "      <th>liveness</th>\n",
       "      <th>loudness</th>\n",
       "      <th>speechiness</th>\n",
       "      <th>tempo</th>\n",
       "      <th>positiveness</th>\n",
       "      <th>explicit</th>\n",
       "      <th>duration_sec</th>\n",
       "    </tr>\n",
       "  </thead>\n",
       "  <tbody>\n",
       "    <tr>\n",
       "      <th>73</th>\n",
       "      <td>74</td>\n",
       "      <td>Rolex</td>\n",
       "      <td>Rolex</td>\n",
       "      <td>Ayo &amp; Teo</td>\n",
       "      <td>2017-03-15</td>\n",
       "      <td>0.804</td>\n",
       "      <td>0.0837</td>\n",
       "      <td>0.886</td>\n",
       "      <td>0.0</td>\n",
       "      <td>0.266</td>\n",
       "      <td>-2.512</td>\n",
       "      <td>0.04</td>\n",
       "      <td>144.946</td>\n",
       "      <td>0.789</td>\n",
       "      <td>False</td>\n",
       "      <td>238.586</td>\n",
       "    </tr>\n",
       "  </tbody>\n",
       "</table>\n",
       "</div>"
      ],
      "text/plain": [
       "    rank   name  album     artist release_date  danceability  acousticness  \\\n",
       "73    74  Rolex  Rolex  Ayo & Teo   2017-03-15         0.804        0.0837   \n",
       "\n",
       "    energy  instrumentalness  liveness  loudness  speechiness    tempo  \\\n",
       "73   0.886               0.0     0.266    -2.512         0.04  144.946   \n",
       "\n",
       "    positiveness  explicit  duration_sec  \n",
       "73         0.789     False       238.586  "
      ]
     },
     "execution_count": 6,
     "metadata": {},
     "output_type": "execute_result"
    }
   ],
   "source": [
    "spotifytop2017.sample(1)"
   ]
  },
  {
   "cell_type": "markdown",
   "id": "87cad981",
   "metadata": {},
   "source": [
    "### Data Analysis ###"
   ]
  },
  {
   "cell_type": "markdown",
   "id": "8412f67e",
   "metadata": {},
   "source": [
    "#### Block 1 #####\n",
    "\n",
    "Question: Does danceability and energy tend to increase in songs higher up on the Spotify charts? \n",
    "\n",
    "Steps: A) Break up the 98 songs into 7 equally sized bins of 14 songs. B) Calculate the mean danceability and energy within each of these bins. C) Plot these mean statistics in a line graph where the bins are on the x-axis. "
   ]
  },
  {
   "cell_type": "code",
   "execution_count": 7,
   "id": "1879a746",
   "metadata": {},
   "outputs": [
    {
     "data": {
      "image/png": "[encoded data removed]",
      "text/plain": [
       "<Figure size 432x288 with 1 Axes>"
      ]
     },
     "metadata": {
      "needs_background": "light"
     },
     "output_type": "display_data"
    }
   ],
   "source": [
    "bins = [0, 14, 28, 42, 56, 70, 84, 98]\n",
    "labels = [\"Highest\", \"2nd\", \"3rd\", \"4th\", \"5th\", \"6th\", \"Lowest\"]\n",
    "\n",
    "# Creating bins\n",
    "spotifytop2017['rank_range'] = pd.cut(spotifytop2017['rank'], bins = bins, labels = labels) \n",
    "\n",
    "# Grouping by bins and plotting metrics\n",
    "spotifytop2017.groupby('rank_range')[['danceability', 'energy']].mean().plot(xlabel = 'Chart Position', ylabel = 'Measure');\n"
   ]
  },
  {
   "cell_type": "markdown",
   "id": "90bb2139",
   "metadata": {},
   "source": [
    "#### Answer/Observations/Interpretations: ####\n",
    "\n",
    "These plots support the hypothesis that danceability and energy are higher in songs closer to the top of the charts, than songs a bit further down. This is especially clear for danceability - songs at the highest part of the charts show relatively much more danceability than songs at the lowest part of the top 98, although there is some variability in the middle. \n",
    "\n",
    "Of course, all the songs in this dataset are among the most popular in general; however, it is still useful to plot how these metrics may change as one goes down the charts. Note that the shape of the danceability and energy lines are similar; this is likely due to similarities in how Spotify's machine learning models calculate these two models (i.e. perhaps they are both in part correlated to an identical third metric)."
   ]
  },
  {
   "cell_type": "markdown",
   "id": "9d76201f",
   "metadata": {},
   "source": [
    "#### Block 2 #####\n",
    "\n",
    "Question: Do songs popular on Spotify in 2017 get shorter the more popular they are? \n",
    "\n",
    "Steps: First, I will conduct a similar analysis as Block 1 (A) Break up the 98 songs into 7 equally sized bins of 14 songs. B) Calculate the mean duration in seconds within each of these bins. C) Plot this mean statistic in a line graph where the bins are on the x-axis.) After, I will visualize the distribution of song lengths at large in the dataset, and see what lengths the most songs cluster around. For exploratory and perhaps future purposes, I would also like to know the mean duration of songs in this dataset."
   ]
  },
  {
   "cell_type": "code",
   "execution_count": 8,
   "id": "5e2abce4",
   "metadata": {},
   "outputs": [
    {
     "data": {
      "image/png": "[encoded data removed]",
      "text/plain": [
       "<Figure size 432x288 with 1 Axes>"
      ]
     },
     "metadata": {
      "needs_background": "light"
     },
     "output_type": "display_data"
    }
   ],
   "source": [
    "# Grouping by bins and plotting metrics\n",
    "spotifytop2017.groupby('rank_range')[['duration_sec']].mean().plot(xlabel = 'Chart Position', ylabel = 'Duration (seconds)');\n"
   ]
  },
  {
   "cell_type": "code",
   "execution_count": 9,
   "id": "5b0888ad",
   "metadata": {},
   "outputs": [
    {
     "data": {
      "text/plain": [
       "Text(0.5, 0, 'Duration (sec)')"
      ]
     },
     "execution_count": 9,
     "metadata": {},
     "output_type": "execute_result"
    },
    {
     "data": {
      "image/png": "[encoded data removed]",
      "text/plain": [
       "<Figure size 432x288 with 1 Axes>"
      ]
     },
     "metadata": {
      "needs_background": "light"
     },
     "output_type": "display_data"
    }
   ],
   "source": [
    "spotifytop2017['duration_sec'].plot(kind='hist', bins=10); # Creates histogram with ten bins\n",
    "plt.xlabel(\"Duration (sec)\")"
   ]
  },
  {
   "cell_type": "code",
   "execution_count": 10,
   "id": "678f0ca2",
   "metadata": {},
   "outputs": [
    {
     "data": {
      "text/plain": [
       "223.07481632653062"
      ]
     },
     "execution_count": 10,
     "metadata": {},
     "output_type": "execute_result"
    }
   ],
   "source": [
    "spotifytop2017['duration_sec'].mean()"
   ]
  },
  {
   "cell_type": "markdown",
   "id": "8a2904e9",
   "metadata": {},
   "source": [
    "#### Answer/Observations/Interpretations ####\n",
    "\n",
    "My hypothesis was actually disproved with this analysis. The first graph offered support to the conflicting idea that in 2017, the most popular songs on Spotify tended to be a bit longer than songs a bit lower on the charts. While the songs highest on the list were about 235 seconds, (3.9 minutes), the songs at the bottom were about 215 seconds (3.6 minutes); although there is some modulation in the 6th bin, for the most part the trend is fairly consistent in the negative direction. \n",
    "\n",
    "The second plot showed that the most songs clustered between about 205 and 220 seconds (3.4 and 3.67 minutes), a slightly negatively skewed distribution. Upon first glance, when I later place this data in comparison with 2020 data, it is clear that songs on the 2017 Spotify charts tended to be a bit longer than songs on the 2020 Spotify charts by more than 20-30 seconds. "
   ]
  },
  {
   "cell_type": "markdown",
   "id": "858a0d31",
   "metadata": {},
   "source": [
    "##### Block 3 ##### \n",
    "\n",
    "Question: Do explicit songs rate higher on energy or danceability than non-explicit songs?\n",
    "\n",
    "Steps: A) Group dataset by values in the 'explicit' column, B) Find mean of the 'energy' and 'danceability' columns"
   ]
  },
  {
   "cell_type": "code",
   "execution_count": 11,
   "id": "1ddbe4c1",
   "metadata": {},
   "outputs": [
    {
     "data": {
      "text/html": [
       "<div>\n",
       "<style scoped>\n",
       "    .dataframe tbody tr th:only-of-type {\n",
       "        vertical-align: middle;\n",
       "    }\n",
       "\n",
       "    .dataframe tbody tr th {\n",
       "        vertical-align: top;\n",
       "    }\n",
       "\n",
       "    .dataframe thead th {\n",
       "        text-align: right;\n",
       "    }\n",
       "</style>\n",
       "<table border=\"1\" class=\"dataframe\">\n",
       "  <thead>\n",
       "    <tr style=\"text-align: right;\">\n",
       "      <th></th>\n",
       "      <th>energy</th>\n",
       "      <th>danceability</th>\n",
       "    </tr>\n",
       "    <tr>\n",
       "      <th>explicit</th>\n",
       "      <th></th>\n",
       "      <th></th>\n",
       "    </tr>\n",
       "  </thead>\n",
       "  <tbody>\n",
       "    <tr>\n",
       "      <th>False</th>\n",
       "      <td>0.638641</td>\n",
       "      <td>0.693821</td>\n",
       "    </tr>\n",
       "    <tr>\n",
       "      <th>True</th>\n",
       "      <td>0.569356</td>\n",
       "      <td>0.756407</td>\n",
       "    </tr>\n",
       "  </tbody>\n",
       "</table>\n",
       "</div>"
      ],
      "text/plain": [
       "            energy  danceability\n",
       "explicit                        \n",
       "False     0.638641      0.693821\n",
       "True      0.569356      0.756407"
      ]
     },
     "execution_count": 11,
     "metadata": {},
     "output_type": "execute_result"
    }
   ],
   "source": [
    "# Grouping metrics by explicitness or lack thereof before calculating means\n",
    "spotifytop2017.groupby('explicit')[['energy','danceability']].mean() "
   ]
  },
  {
   "cell_type": "markdown",
   "id": "a85c4ed8",
   "metadata": {},
   "source": [
    "#### Answer/Observations/Interpretations ####\n",
    "\n",
    "This data shows that explicit songs tend to have slightly less energy than non-explicit songs; it also shows that explicit songs tend to have more danceability than non-explicit songs. \n",
    "\n",
    "Of course, this is based on an small, arbitrary sample and cannot be assumed to mean a general conclusion. It is interesting to compare this with the 2020 findings, which showed that explicit songs are higher in both energy and danceability. "
   ]
  },
  {
   "cell_type": "markdown",
   "id": "afabb3ec",
   "metadata": {},
   "source": [
    "#### Block 4 ####\n",
    "\n",
    "Question: Do songs popular on Spotify in 2017 get faster the more popular they are? \n",
    "\n",
    "Steps: I will perform similar steps as in Block 1 and 2 (my analysis of duration). First, I will conduct a similar analysis as Block 1. (A – Break up the 98 songs into 7 equally sized bins of 14 songs. B – Calculate the mean tempo within each of these bins. C – Plot this mean statistic in a line graph where the bins are on the x-axis.) After, I will visualize the distribution of tempos at large in the dataset, and see what BPM the most songs cluster around. For exploratory and perhaps future purposes, I would also like to know the mean tempo of songs in this dataset."
   ]
  },
  {
   "cell_type": "code",
   "execution_count": 12,
   "id": "a5dd56c1",
   "metadata": {},
   "outputs": [
    {
     "data": {
      "image/png": "[encoded data removed]",
      "text/plain": [
       "<Figure size 432x288 with 1 Axes>"
      ]
     },
     "metadata": {
      "needs_background": "light"
     },
     "output_type": "display_data"
    }
   ],
   "source": [
    "# Grouping by bins and plotting metrics\n",
    "spotifytop2017.groupby('rank_range')['tempo'].mean().plot(xlabel = 'Chart Position', ylabel = 'Tempo (BPM)');\n"
   ]
  },
  {
   "cell_type": "code",
   "execution_count": 13,
   "id": "e6f40d32",
   "metadata": {},
   "outputs": [
    {
     "data": {
      "image/png": "[encoded data removed]",
      "text/plain": [
       "<Figure size 432x288 with 1 Axes>"
      ]
     },
     "metadata": {
      "needs_background": "light"
     },
     "output_type": "display_data"
    }
   ],
   "source": [
    "# Creates histogram with ten bins\n",
    "spotifytop2017['tempo'].plot(kind='hist', bins=10);\n",
    "plt.xlabel(\"Tempo (BPM)\");"
   ]
  },
  {
   "cell_type": "code",
   "execution_count": 14,
   "id": "59ea17d1",
   "metadata": {},
   "outputs": [
    {
     "data": {
      "text/plain": [
       "120.56568367346938"
      ]
     },
     "execution_count": 14,
     "metadata": {},
     "output_type": "execute_result"
    }
   ],
   "source": [
    "spotifytop2017['tempo'].mean()"
   ]
  },
  {
   "cell_type": "markdown",
   "id": "46b950a1",
   "metadata": {},
   "source": [
    "#### Answer/Observations/Interpretations ####\n",
    "\n",
    "This analysis shows that there may actually not be any discernible pattern in tempo as it relates to songs popular on Spotify. This may also be influenced by the unreliability of tempo-measuring technologies (i.e. a song that is 180 BPM may also be classified as 90 BPM). Indeed, after conducting this analysis, I noticed irregularities like this in the data that would be unfeasible to parse out. Thus, I may not conduct more tempo analyses in the future. "
   ]
  },
  {
   "cell_type": "markdown",
   "id": "21b986b9",
   "metadata": {},
   "source": [
    "##### Block 5 #####\n",
    "\n",
    "Question: How do the artists with the most songs popular on Spotify in 2017 compare in acousticness to the rest of the charts?\n",
    "\n",
    "Steps: A) Find the artists who have the most songs in the dataset, B) Create filters subsetting to just the artists with the most songs, C) Subset the dataset via those filters, D) Find the mean acousticness of the new dataset, E) Find the mean acousticness of the original dataset and compare."
   ]
  },
  {
   "cell_type": "code",
   "execution_count": 15,
   "id": "bca5bcfa",
   "metadata": {},
   "outputs": [
    {
     "data": {
      "text/plain": [
       "Kendrick Lamar      5\n",
       "Post Malone         5\n",
       "Drake               5\n",
       "Migos               3\n",
       "The Chainsmokers    3\n",
       "                   ..\n",
       "Shelley FKA DRAM    1\n",
       "Liam Payne          1\n",
       "Demi Lovato         1\n",
       "Halsey              1\n",
       "J. Cole             1\n",
       "Name: artist, Length: 63, dtype: int64"
      ]
     },
     "execution_count": 15,
     "metadata": {},
     "output_type": "execute_result"
    }
   ],
   "source": [
    "spotifytop2017['artist'].value_counts()"
   ]
  },
  {
   "cell_type": "code",
   "execution_count": 16,
   "id": "474b0438",
   "metadata": {},
   "outputs": [],
   "source": [
    "# Creates filters by artist name\n",
    "kendrick_filter = spotifytop2017['artist'] == 'Kendrick Lamar'\n",
    "post_filter = spotifytop2017['artist'] == 'Post Malone'\n",
    "drake_filter = spotifytop2017['artist'] == 'Drake'\n",
    "\n",
    "# Subsets dataset by filters\n",
    "top_artists_spotify2017 = spotifytop2017[kendrick_filter | post_filter | drake_filter]"
   ]
  },
  {
   "cell_type": "code",
   "execution_count": 17,
   "id": "dc3ab151",
   "metadata": {},
   "outputs": [
    {
     "data": {
      "text/plain": [
       "0.11946413333333333"
      ]
     },
     "execution_count": 17,
     "metadata": {},
     "output_type": "execute_result"
    }
   ],
   "source": [
    "top_artists_spotify2017['acousticness'].mean()"
   ]
  },
  {
   "cell_type": "code",
   "execution_count": 18,
   "id": "4039b452",
   "metadata": {},
   "outputs": [
    {
     "data": {
      "text/plain": [
       "0.16030165306122449"
      ]
     },
     "execution_count": 18,
     "metadata": {},
     "output_type": "execute_result"
    }
   ],
   "source": [
    "spotifytop2017['acousticness'].mean()"
   ]
  },
  {
   "cell_type": "markdown",
   "id": "a7734e3c",
   "metadata": {},
   "source": [
    "#### Answer/Observations/Interpretations ####\n",
    "\n",
    "This analysis offers support to the idea that the artists most popular on Spotify in 2017 release songs less acoustic than those on the rest of the charts. One could interpret this as meaning that the most popular artists in Spotify in 2017 tended to release more electronic or synth-driven music. "
   ]
  }
 ],
 "metadata": {
  "kernelspec": {
   "display_name": "Python 3 (COMM318)",
   "language": "python",
   "name": "python3"
  },
  "language_info": {
   "codemirror_mode": {
    "name": "ipython",
    "version": 3
   },
   "file_extension": ".py",
   "mimetype": "text/x-python",
   "name": "python",
   "nbconvert_exporter": "python",
   "pygments_lexer": "ipython3",
   "version": "3.8.8"
  }
 },
 "nbformat": 4,
 "nbformat_minor": 5
}
