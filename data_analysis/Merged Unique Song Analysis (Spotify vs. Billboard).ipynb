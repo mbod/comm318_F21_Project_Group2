{
 "cells": [
  {
   "cell_type": "markdown",
   "id": "05248653",
   "metadata": {},
   "source": [
    "## Merged Unique Song Analysis\n",
    "This is a continuation of the analysis conducted on Billboard-unique and Spotify-unique songs using the merged datasets across all years (2017, 2020, 2021).\n",
    "\n",
    "Chris Chien"
   ]
  },
  {
   "cell_type": "code",
   "execution_count": 1,
   "id": "f4f5334d",
   "metadata": {},
   "outputs": [],
   "source": [
    "# Importing modules\n",
    "import pandas as pd\n",
    "import matplotlib.pyplot as plt\n",
    "import statsmodels.stats.weightstats as sm\n",
    "import seaborn as sns\n",
    "from sklearn.cluster import KMeans\n"
   ]
  },
  {
   "cell_type": "code",
   "execution_count": 2,
   "id": "7b3bdf3e",
   "metadata": {},
   "outputs": [],
   "source": [
    "# Loading in the merged datasets\n",
    "spotifyonly = pd.read_csv(\"../data/Clean/spotifyonly_allyears.csv\")\n",
    "billboardonly = pd.read_csv(\"../data/Clean/billboardonly_allyears.csv\")"
   ]
  },
  {
   "cell_type": "code",
   "execution_count": 3,
   "id": "555baebd",
   "metadata": {},
   "outputs": [
    {
     "data": {
      "text/html": [
       "<div>\n",
       "<style scoped>\n",
       "    .dataframe tbody tr th:only-of-type {\n",
       "        vertical-align: middle;\n",
       "    }\n",
       "\n",
       "    .dataframe tbody tr th {\n",
       "        vertical-align: top;\n",
       "    }\n",
       "\n",
       "    .dataframe thead th {\n",
       "        text-align: right;\n",
       "    }\n",
       "</style>\n",
       "<table border=\"1\" class=\"dataframe\">\n",
       "  <thead>\n",
       "    <tr style=\"text-align: right;\">\n",
       "      <th></th>\n",
       "      <th>Unnamed: 0</th>\n",
       "      <th>Unnamed: 0.1</th>\n",
       "      <th>rank</th>\n",
       "      <th>name</th>\n",
       "      <th>album</th>\n",
       "      <th>artist</th>\n",
       "      <th>release_date</th>\n",
       "      <th>danceability</th>\n",
       "      <th>acousticness</th>\n",
       "      <th>energy</th>\n",
       "      <th>instrumentalness</th>\n",
       "      <th>liveness</th>\n",
       "      <th>loudness</th>\n",
       "      <th>speechiness</th>\n",
       "      <th>tempo</th>\n",
       "      <th>valence</th>\n",
       "      <th>explicit</th>\n",
       "      <th>duration_sec</th>\n",
       "    </tr>\n",
       "  </thead>\n",
       "  <tbody>\n",
       "    <tr>\n",
       "      <th>0</th>\n",
       "      <td>33</td>\n",
       "      <td>33</td>\n",
       "      <td>34</td>\n",
       "      <td>LOVE. FEAT. ZACARI.</td>\n",
       "      <td>DAMN.</td>\n",
       "      <td>Kendrick Lamar</td>\n",
       "      <td>2017-04-14</td>\n",
       "      <td>0.800</td>\n",
       "      <td>0.2640</td>\n",
       "      <td>0.585</td>\n",
       "      <td>0.00000</td>\n",
       "      <td>0.153</td>\n",
       "      <td>-7.343</td>\n",
       "      <td>0.0924</td>\n",
       "      <td>126.058</td>\n",
       "      <td>0.779</td>\n",
       "      <td>True</td>\n",
       "      <td>213.400</td>\n",
       "    </tr>\n",
       "    <tr>\n",
       "      <th>1</th>\n",
       "      <td>38</td>\n",
       "      <td>38</td>\n",
       "      <td>39</td>\n",
       "      <td>Portland</td>\n",
       "      <td>More Life</td>\n",
       "      <td>Drake</td>\n",
       "      <td>2017-03-18</td>\n",
       "      <td>0.925</td>\n",
       "      <td>0.0172</td>\n",
       "      <td>0.443</td>\n",
       "      <td>0.00000</td>\n",
       "      <td>0.276</td>\n",
       "      <td>-8.216</td>\n",
       "      <td>0.2640</td>\n",
       "      <td>136.078</td>\n",
       "      <td>0.350</td>\n",
       "      <td>True</td>\n",
       "      <td>236.614</td>\n",
       "    </tr>\n",
       "    <tr>\n",
       "      <th>2</th>\n",
       "      <td>42</td>\n",
       "      <td>42</td>\n",
       "      <td>43</td>\n",
       "      <td>BUTTERFLY EFFECT</td>\n",
       "      <td>BUTTERFLY EFFECT</td>\n",
       "      <td>Travis Scott</td>\n",
       "      <td>2017-05-18</td>\n",
       "      <td>0.763</td>\n",
       "      <td>0.0714</td>\n",
       "      <td>0.598</td>\n",
       "      <td>0.00000</td>\n",
       "      <td>0.112</td>\n",
       "      <td>-6.865</td>\n",
       "      <td>0.0539</td>\n",
       "      <td>140.987</td>\n",
       "      <td>0.182</td>\n",
       "      <td>False</td>\n",
       "      <td>190.677</td>\n",
       "    </tr>\n",
       "    <tr>\n",
       "      <th>3</th>\n",
       "      <td>55</td>\n",
       "      <td>55</td>\n",
       "      <td>56</td>\n",
       "      <td>X (feat. Future)</td>\n",
       "      <td>Savage Mode</td>\n",
       "      <td>21 Savage</td>\n",
       "      <td>2016-07-15</td>\n",
       "      <td>0.835</td>\n",
       "      <td>0.3730</td>\n",
       "      <td>0.413</td>\n",
       "      <td>0.00133</td>\n",
       "      <td>0.101</td>\n",
       "      <td>-9.810</td>\n",
       "      <td>0.3960</td>\n",
       "      <td>149.004</td>\n",
       "      <td>0.111</td>\n",
       "      <td>True</td>\n",
       "      <td>258.880</td>\n",
       "    </tr>\n",
       "    <tr>\n",
       "      <th>4</th>\n",
       "      <td>59</td>\n",
       "      <td>59</td>\n",
       "      <td>60</td>\n",
       "      <td>I Fall Apart</td>\n",
       "      <td>Stoney (Deluxe)</td>\n",
       "      <td>Post Malone</td>\n",
       "      <td>2016-12-09</td>\n",
       "      <td>0.556</td>\n",
       "      <td>0.0689</td>\n",
       "      <td>0.538</td>\n",
       "      <td>0.00000</td>\n",
       "      <td>0.196</td>\n",
       "      <td>-5.408</td>\n",
       "      <td>0.0382</td>\n",
       "      <td>143.950</td>\n",
       "      <td>0.291</td>\n",
       "      <td>True</td>\n",
       "      <td>223.346</td>\n",
       "    </tr>\n",
       "  </tbody>\n",
       "</table>\n",
       "</div>"
      ],
      "text/plain": [
       "   Unnamed: 0  Unnamed: 0.1  rank                 name             album  \\\n",
       "0          33            33    34  LOVE. FEAT. ZACARI.             DAMN.   \n",
       "1          38            38    39             Portland         More Life   \n",
       "2          42            42    43     BUTTERFLY EFFECT  BUTTERFLY EFFECT   \n",
       "3          55            55    56     X (feat. Future)       Savage Mode   \n",
       "4          59            59    60         I Fall Apart   Stoney (Deluxe)   \n",
       "\n",
       "           artist release_date  danceability  acousticness  energy  \\\n",
       "0  Kendrick Lamar   2017-04-14         0.800        0.2640   0.585   \n",
       "1           Drake   2017-03-18         0.925        0.0172   0.443   \n",
       "2    Travis Scott   2017-05-18         0.763        0.0714   0.598   \n",
       "3       21 Savage   2016-07-15         0.835        0.3730   0.413   \n",
       "4     Post Malone   2016-12-09         0.556        0.0689   0.538   \n",
       "\n",
       "   instrumentalness  liveness  loudness  speechiness    tempo  valence  \\\n",
       "0           0.00000     0.153    -7.343       0.0924  126.058    0.779   \n",
       "1           0.00000     0.276    -8.216       0.2640  136.078    0.350   \n",
       "2           0.00000     0.112    -6.865       0.0539  140.987    0.182   \n",
       "3           0.00133     0.101    -9.810       0.3960  149.004    0.111   \n",
       "4           0.00000     0.196    -5.408       0.0382  143.950    0.291   \n",
       "\n",
       "   explicit  duration_sec  \n",
       "0      True       213.400  \n",
       "1      True       236.614  \n",
       "2     False       190.677  \n",
       "3      True       258.880  \n",
       "4      True       223.346  "
      ]
     },
     "execution_count": 3,
     "metadata": {},
     "output_type": "execute_result"
    }
   ],
   "source": [
    "spotifyonly.head()"
   ]
  },
  {
   "cell_type": "code",
   "execution_count": 4,
   "id": "559e9a3c",
   "metadata": {
    "scrolled": true
   },
   "outputs": [
    {
     "data": {
      "text/html": [
       "<div>\n",
       "<style scoped>\n",
       "    .dataframe tbody tr th:only-of-type {\n",
       "        vertical-align: middle;\n",
       "    }\n",
       "\n",
       "    .dataframe tbody tr th {\n",
       "        vertical-align: top;\n",
       "    }\n",
       "\n",
       "    .dataframe thead th {\n",
       "        text-align: right;\n",
       "    }\n",
       "</style>\n",
       "<table border=\"1\" class=\"dataframe\">\n",
       "  <thead>\n",
       "    <tr style=\"text-align: right;\">\n",
       "      <th></th>\n",
       "      <th>Unnamed: 0</th>\n",
       "      <th>Unnamed: 0.1</th>\n",
       "      <th>Rank</th>\n",
       "      <th>name</th>\n",
       "      <th>album</th>\n",
       "      <th>artist</th>\n",
       "      <th>release_date</th>\n",
       "      <th>duration_ms</th>\n",
       "      <th>popularity</th>\n",
       "      <th>danceability</th>\n",
       "      <th>...</th>\n",
       "      <th>energy</th>\n",
       "      <th>instrumentalness</th>\n",
       "      <th>liveness</th>\n",
       "      <th>loudness</th>\n",
       "      <th>speechiness</th>\n",
       "      <th>tempo</th>\n",
       "      <th>time_signature</th>\n",
       "      <th>valence</th>\n",
       "      <th>explicit</th>\n",
       "      <th>duration_sec</th>\n",
       "    </tr>\n",
       "  </thead>\n",
       "  <tbody>\n",
       "    <tr>\n",
       "      <th>0</th>\n",
       "      <td>29</td>\n",
       "      <td>29</td>\n",
       "      <td>30</td>\n",
       "      <td>Scars To Your Beautiful</td>\n",
       "      <td>Know-It-All (Deluxe)</td>\n",
       "      <td>Alessia Cara</td>\n",
       "      <td>2015-11-13</td>\n",
       "      <td>230226</td>\n",
       "      <td>76</td>\n",
       "      <td>0.573</td>\n",
       "      <td>...</td>\n",
       "      <td>0.739</td>\n",
       "      <td>0.000000</td>\n",
       "      <td>0.1110</td>\n",
       "      <td>-5.740</td>\n",
       "      <td>0.1290</td>\n",
       "      <td>97.085</td>\n",
       "      <td>4</td>\n",
       "      <td>0.451</td>\n",
       "      <td>False</td>\n",
       "      <td>230.226</td>\n",
       "    </tr>\n",
       "    <tr>\n",
       "      <th>1</th>\n",
       "      <td>37</td>\n",
       "      <td>37</td>\n",
       "      <td>38</td>\n",
       "      <td>Don't Wanna Know (feat. Kendrick Lamar)</td>\n",
       "      <td>Red Pill Blues (Deluxe)</td>\n",
       "      <td>Maroon 5</td>\n",
       "      <td>2017-11-03</td>\n",
       "      <td>214265</td>\n",
       "      <td>0</td>\n",
       "      <td>0.776</td>\n",
       "      <td>...</td>\n",
       "      <td>0.620</td>\n",
       "      <td>0.000000</td>\n",
       "      <td>0.0978</td>\n",
       "      <td>-6.198</td>\n",
       "      <td>0.0670</td>\n",
       "      <td>100.025</td>\n",
       "      <td>4</td>\n",
       "      <td>0.427</td>\n",
       "      <td>False</td>\n",
       "      <td>214.265</td>\n",
       "    </tr>\n",
       "    <tr>\n",
       "      <th>2</th>\n",
       "      <td>38</td>\n",
       "      <td>38</td>\n",
       "      <td>39</td>\n",
       "      <td>Look What You Made Me Do</td>\n",
       "      <td>Look What You Made Me Do</td>\n",
       "      <td>Taylor Swift</td>\n",
       "      <td>2017-08-24</td>\n",
       "      <td>211859</td>\n",
       "      <td>0</td>\n",
       "      <td>0.767</td>\n",
       "      <td>...</td>\n",
       "      <td>0.671</td>\n",
       "      <td>0.000011</td>\n",
       "      <td>0.1290</td>\n",
       "      <td>-6.416</td>\n",
       "      <td>0.1420</td>\n",
       "      <td>128.072</td>\n",
       "      <td>4</td>\n",
       "      <td>0.474</td>\n",
       "      <td>False</td>\n",
       "      <td>211.859</td>\n",
       "    </tr>\n",
       "    <tr>\n",
       "      <th>3</th>\n",
       "      <td>42</td>\n",
       "      <td>42</td>\n",
       "      <td>43</td>\n",
       "      <td>Side To Side</td>\n",
       "      <td>Dangerous Woman</td>\n",
       "      <td>Ariana Grande</td>\n",
       "      <td>2016-05-20</td>\n",
       "      <td>226160</td>\n",
       "      <td>11</td>\n",
       "      <td>0.650</td>\n",
       "      <td>...</td>\n",
       "      <td>0.736</td>\n",
       "      <td>0.000000</td>\n",
       "      <td>0.2350</td>\n",
       "      <td>-5.840</td>\n",
       "      <td>0.2290</td>\n",
       "      <td>159.173</td>\n",
       "      <td>4</td>\n",
       "      <td>0.613</td>\n",
       "      <td>True</td>\n",
       "      <td>226.160</td>\n",
       "    </tr>\n",
       "    <tr>\n",
       "      <th>4</th>\n",
       "      <td>43</td>\n",
       "      <td>43</td>\n",
       "      <td>44</td>\n",
       "      <td>Rockabye (feat. Sean Paul &amp; Anne-Marie)</td>\n",
       "      <td>Rockabye (feat. Sean Paul &amp; Anne-Marie)</td>\n",
       "      <td>Clean Bandit</td>\n",
       "      <td>2016-10-21</td>\n",
       "      <td>251088</td>\n",
       "      <td>78</td>\n",
       "      <td>0.720</td>\n",
       "      <td>...</td>\n",
       "      <td>0.763</td>\n",
       "      <td>0.000000</td>\n",
       "      <td>0.1800</td>\n",
       "      <td>-4.068</td>\n",
       "      <td>0.0523</td>\n",
       "      <td>101.965</td>\n",
       "      <td>4</td>\n",
       "      <td>0.742</td>\n",
       "      <td>False</td>\n",
       "      <td>251.088</td>\n",
       "    </tr>\n",
       "  </tbody>\n",
       "</table>\n",
       "<p>5 rows × 21 columns</p>\n",
       "</div>"
      ],
      "text/plain": [
       "   Unnamed: 0  Unnamed: 0.1  Rank                                     name  \\\n",
       "0          29            29    30                  Scars To Your Beautiful   \n",
       "1          37            37    38  Don't Wanna Know (feat. Kendrick Lamar)   \n",
       "2          38            38    39                 Look What You Made Me Do   \n",
       "3          42            42    43                             Side To Side   \n",
       "4          43            43    44  Rockabye (feat. Sean Paul & Anne-Marie)   \n",
       "\n",
       "                                     album         artist release_date  \\\n",
       "0                     Know-It-All (Deluxe)   Alessia Cara   2015-11-13   \n",
       "1                  Red Pill Blues (Deluxe)       Maroon 5   2017-11-03   \n",
       "2                 Look What You Made Me Do   Taylor Swift   2017-08-24   \n",
       "3                          Dangerous Woman  Ariana Grande   2016-05-20   \n",
       "4  Rockabye (feat. Sean Paul & Anne-Marie)   Clean Bandit   2016-10-21   \n",
       "\n",
       "   duration_ms  popularity  danceability  ...  energy  instrumentalness  \\\n",
       "0       230226          76         0.573  ...   0.739          0.000000   \n",
       "1       214265           0         0.776  ...   0.620          0.000000   \n",
       "2       211859           0         0.767  ...   0.671          0.000011   \n",
       "3       226160          11         0.650  ...   0.736          0.000000   \n",
       "4       251088          78         0.720  ...   0.763          0.000000   \n",
       "\n",
       "   liveness  loudness  speechiness    tempo  time_signature  valence  \\\n",
       "0    0.1110    -5.740       0.1290   97.085               4    0.451   \n",
       "1    0.0978    -6.198       0.0670  100.025               4    0.427   \n",
       "2    0.1290    -6.416       0.1420  128.072               4    0.474   \n",
       "3    0.2350    -5.840       0.2290  159.173               4    0.613   \n",
       "4    0.1800    -4.068       0.0523  101.965               4    0.742   \n",
       "\n",
       "   explicit  duration_sec  \n",
       "0     False       230.226  \n",
       "1     False       214.265  \n",
       "2     False       211.859  \n",
       "3      True       226.160  \n",
       "4     False       251.088  \n",
       "\n",
       "[5 rows x 21 columns]"
      ]
     },
     "execution_count": 4,
     "metadata": {},
     "output_type": "execute_result"
    }
   ],
   "source": [
    "billboardonly.head()"
   ]
  },
  {
   "cell_type": "markdown",
   "id": "daa42686",
   "metadata": {},
   "source": [
    "To begin with, I recreate the mean Spotify attributes bar graph that was previously generated for individual years' lists:"
   ]
  },
  {
   "cell_type": "code",
   "execution_count": 5,
   "id": "818e09ad",
   "metadata": {},
   "outputs": [
    {
     "data": {
      "image/png": "[encoded data removed]",
      "text/plain": [
       "<Figure size 432x288 with 1 Axes>"
      ]
     },
     "metadata": {
      "needs_background": "light"
     },
     "output_type": "display_data"
    }
   ],
   "source": [
    "spotify_mean_dance = spotifyonly['danceability'].mean()\n",
    "spotify_mean_valence = spotifyonly['valence'].mean()\n",
    "spotify_mean_acous = spotifyonly['acousticness'].mean()\n",
    "spotify_mean_live = spotifyonly['liveness'].mean()\n",
    "billboard_mean_dance = billboardonly['danceability'].mean()\n",
    "billboard_mean_valence = billboardonly['valence'].mean()\n",
    "billboard_mean_acous = billboardonly['acousticness'].mean()\n",
    "billboard_mean_live = billboardonly['liveness'].mean()\n",
    "\n",
    "# Creating new dataframe and plotting\n",
    "uniquesongdance = [spotify_mean_dance, billboard_mean_dance]\n",
    "uniquesongvalence = [spotify_mean_valence, billboard_mean_valence]\n",
    "uniquesongacous = [spotify_mean_acous, billboard_mean_acous]\n",
    "uniquesonglive = [spotify_mean_live, billboard_mean_live]\n",
    "\n",
    "index = ['Spotify', 'Billboard']\n",
    "de_mean_df = pd.DataFrame({\n",
    "    'danceability' : uniquesongdance, \n",
    "    'valence' : uniquesongvalence,\n",
    "    'liveness' : uniquesonglive,\n",
    "    'acousticness' : uniquesongacous}, index = index)\n",
    "\n",
    "de_mean_df.plot.bar(rot = 0)\n",
    "plt.legend(bbox_to_anchor=(1, 1))\n",
    "plt.title('Mean Danceability/Valence/Acousticness/Liveness: Spotify vs. Billboard')\n",
    "plt.ylabel('Mean Ratings')\n",
    "plt.show()"
   ]
  },
  {
   "cell_type": "markdown",
   "id": "e63524d4",
   "metadata": {},
   "source": [
    "The Spotify-only songs had higher danceability and acousticness than the Billboard-only songs, but lower energy and positiveness. I wonder if this is in any way connected to how radio and streaming are used differently. Most people only listen to the radio when they're driving, and uptempo pop songs (which would score highly in energy/positiveness) best cater to that crowd. On the other hand, most of streaming is done using specialized playlists, which would explain why the Spotify-only songs scored higher in danceability and acousticness, which describe specific types of music.\n",
    "\n",
    "I'll now recreate the duration distribution:"
   ]
  },
  {
   "cell_type": "code",
   "execution_count": 6,
   "id": "36193a21",
   "metadata": {
    "scrolled": true
   },
   "outputs": [
    {
     "data": {
      "image/png": "[encoded data removed]",
      "text/plain": [
       "<Figure size 432x288 with 2 Axes>"
      ]
     },
     "metadata": {
      "needs_background": "light"
     },
     "output_type": "display_data"
    }
   ],
   "source": [
    "fig, axs = plt.subplots(2)\n",
    "fig.suptitle('Distribution of Song Durations: Spotify vs. Billboard')\n",
    "axs[0].hist(spotifyonly['duration_sec'], bins = 8)\n",
    "axs[1].hist(billboardonly['duration_sec'], color = 'orange', bins = 8)\n",
    "axs[0].set_title('Spotify')\n",
    "axs[0].set_xlabel('Duration (sec)')\n",
    "axs[0].set_xlim(100,350)\n",
    "axs[1].set_title('Billboard')\n",
    "axs[1].set_xlabel('Duration (sec)')\n",
    "axs[1].set_xlim(100,350)\n",
    "fig.tight_layout()\n",
    "plt.show()"
   ]
  },
  {
   "cell_type": "markdown",
   "id": "6e4f8862",
   "metadata": {},
   "source": [
    "Here, we continue to see the trend of Billboard song durations clustering towards the average, while Spotify song durations are more spread out. This reflects on the relative homogeneity of the radio compared to the more plentiful and diverse possibilities of streaming playlists.\n",
    "\n",
    "Let's run some significance tests to see if we can draw any conclusions from any of the trends identified in these plots. P-values of less than 0.05 are significant."
   ]
  },
  {
   "cell_type": "code",
   "execution_count": 7,
   "id": "efe8e2ee",
   "metadata": {},
   "outputs": [],
   "source": [
    "# T-test for 'valence' metric\n",
    "tval, pval, df = sm.ttest_ind(spotifyonly['valence'],\n",
    "                              billboardonly['valence'])"
   ]
  },
  {
   "cell_type": "code",
   "execution_count": 8,
   "id": "00397147",
   "metadata": {},
   "outputs": [
    {
     "data": {
      "text/plain": [
       "-2.853118137140067"
      ]
     },
     "execution_count": 8,
     "metadata": {},
     "output_type": "execute_result"
    }
   ],
   "source": [
    "tval"
   ]
  },
  {
   "cell_type": "code",
   "execution_count": 9,
   "id": "0824ba9c",
   "metadata": {},
   "outputs": [
    {
     "data": {
      "text/plain": [
       "0.005044592954997676"
      ]
     },
     "execution_count": 9,
     "metadata": {},
     "output_type": "execute_result"
    }
   ],
   "source": [
    "pval"
   ]
  },
  {
   "cell_type": "code",
   "execution_count": 10,
   "id": "085bbf2c",
   "metadata": {},
   "outputs": [
    {
     "data": {
      "image/png": "[encoded data removed]",
      "text/plain": [
       "<Figure size 432x288 with 1 Axes>"
      ]
     },
     "metadata": {
      "needs_background": "light"
     },
     "output_type": "display_data"
    }
   ],
   "source": [
    "# Test boxplot for 'valence'\n",
    "plt.boxplot((spotifyonly['valence'],\n",
    "                              billboardonly['valence']), notch=True)\n",
    "plt.show()"
   ]
  },
  {
   "cell_type": "code",
   "execution_count": 11,
   "id": "33ed3043",
   "metadata": {
    "scrolled": true
   },
   "outputs": [
    {
     "name": "stdout",
     "output_type": "stream",
     "text": [
      "t=0.93 p=0.354\n"
     ]
    }
   ],
   "source": [
    "# T-test for song duration\n",
    "tval, pval, df = sm.ttest_ind(spotifyonly['duration_sec'],\n",
    "                              billboardonly['duration_sec'])\n",
    "print(f't={tval:.2f} p={pval:.3f}')"
   ]
  },
  {
   "cell_type": "code",
   "execution_count": 12,
   "id": "e4a0be13",
   "metadata": {
    "scrolled": false
   },
   "outputs": [
    {
     "data": {
      "image/png": "[encoded data removed]",
      "text/plain": [
       "<Figure size 432x288 with 1 Axes>"
      ]
     },
     "metadata": {
      "needs_background": "light"
     },
     "output_type": "display_data"
    }
   ],
   "source": [
    "# Test boxplot for song duration\n",
    "plt.boxplot((spotifyonly['duration_sec'],\n",
    "                              billboardonly['duration_sec']), notch=True)\n",
    "plt.show()"
   ]
  },
  {
   "cell_type": "code",
   "execution_count": 13,
   "id": "a863095f",
   "metadata": {
    "scrolled": true
   },
   "outputs": [
    {
     "data": {
      "text/plain": [
       "mean      210.027381\n",
       "min       132.832000\n",
       "max       312.820000\n",
       "idxmin     52.000000\n",
       "idxmax     47.000000\n",
       "Name: duration_sec, dtype: float64"
      ]
     },
     "execution_count": 13,
     "metadata": {},
     "output_type": "execute_result"
    }
   ],
   "source": [
    "# Identifying outliers + other statistics for Billboard song durations\n",
    "spotifyonly['duration_sec'].agg(['mean', 'min', 'max', 'idxmin', 'idxmax'])"
   ]
  },
  {
   "cell_type": "code",
   "execution_count": 14,
   "id": "6c65f548",
   "metadata": {},
   "outputs": [
    {
     "data": {
      "text/html": [
       "<div>\n",
       "<style scoped>\n",
       "    .dataframe tbody tr th:only-of-type {\n",
       "        vertical-align: middle;\n",
       "    }\n",
       "\n",
       "    .dataframe tbody tr th {\n",
       "        vertical-align: top;\n",
       "    }\n",
       "\n",
       "    .dataframe thead th {\n",
       "        text-align: right;\n",
       "    }\n",
       "</style>\n",
       "<table border=\"1\" class=\"dataframe\">\n",
       "  <thead>\n",
       "    <tr style=\"text-align: right;\">\n",
       "      <th></th>\n",
       "      <th>Unnamed: 0</th>\n",
       "      <th>Unnamed: 0.1</th>\n",
       "      <th>rank</th>\n",
       "      <th>name</th>\n",
       "      <th>album</th>\n",
       "      <th>artist</th>\n",
       "      <th>release_date</th>\n",
       "      <th>danceability</th>\n",
       "      <th>acousticness</th>\n",
       "      <th>energy</th>\n",
       "      <th>instrumentalness</th>\n",
       "      <th>liveness</th>\n",
       "      <th>loudness</th>\n",
       "      <th>speechiness</th>\n",
       "      <th>tempo</th>\n",
       "      <th>valence</th>\n",
       "      <th>explicit</th>\n",
       "      <th>duration_sec</th>\n",
       "    </tr>\n",
       "  </thead>\n",
       "  <tbody>\n",
       "    <tr>\n",
       "      <th>52</th>\n",
       "      <td>31</td>\n",
       "      <td>31</td>\n",
       "      <td>32</td>\n",
       "      <td>Martin &amp; Gina</td>\n",
       "      <td>THE GOAT</td>\n",
       "      <td>Polo G</td>\n",
       "      <td>2020-05-15</td>\n",
       "      <td>0.832</td>\n",
       "      <td>0.34500</td>\n",
       "      <td>0.534</td>\n",
       "      <td>0.0</td>\n",
       "      <td>0.165</td>\n",
       "      <td>-7.813</td>\n",
       "      <td>0.253</td>\n",
       "      <td>93.924</td>\n",
       "      <td>0.116</td>\n",
       "      <td>True</td>\n",
       "      <td>132.832</td>\n",
       "    </tr>\n",
       "    <tr>\n",
       "      <th>47</th>\n",
       "      <td>49</td>\n",
       "      <td>49</td>\n",
       "      <td>50</td>\n",
       "      <td>SICKO MODE</td>\n",
       "      <td>ASTROWORLD</td>\n",
       "      <td>Travis Scott</td>\n",
       "      <td>2018-08-03</td>\n",
       "      <td>0.834</td>\n",
       "      <td>0.00513</td>\n",
       "      <td>0.730</td>\n",
       "      <td>0.0</td>\n",
       "      <td>0.124</td>\n",
       "      <td>-3.714</td>\n",
       "      <td>0.222</td>\n",
       "      <td>155.008</td>\n",
       "      <td>0.446</td>\n",
       "      <td>True</td>\n",
       "      <td>312.820</td>\n",
       "    </tr>\n",
       "  </tbody>\n",
       "</table>\n",
       "</div>"
      ],
      "text/plain": [
       "    Unnamed: 0  Unnamed: 0.1  rank           name       album        artist  \\\n",
       "52          31            31    32  Martin & Gina    THE GOAT        Polo G   \n",
       "47          49            49    50     SICKO MODE  ASTROWORLD  Travis Scott   \n",
       "\n",
       "   release_date  danceability  acousticness  energy  instrumentalness  \\\n",
       "52   2020-05-15         0.832       0.34500   0.534               0.0   \n",
       "47   2018-08-03         0.834       0.00513   0.730               0.0   \n",
       "\n",
       "    liveness  loudness  speechiness    tempo  valence  explicit  duration_sec  \n",
       "52     0.165    -7.813        0.253   93.924    0.116      True       132.832  \n",
       "47     0.124    -3.714        0.222  155.008    0.446      True       312.820  "
      ]
     },
     "execution_count": 14,
     "metadata": {},
     "output_type": "execute_result"
    }
   ],
   "source": [
    "spotifyonly.loc[[52,47]]"
   ]
  },
  {
   "cell_type": "code",
   "execution_count": 15,
   "id": "8e22da6c",
   "metadata": {
    "scrolled": true
   },
   "outputs": [
    {
     "name": "stdout",
     "output_type": "stream",
     "text": [
      "t=0.89 p=0.376\n"
     ]
    }
   ],
   "source": [
    "# T-test for 'danceability' metric\n",
    "tval, pval, df = sm.ttest_ind(spotifyonly['danceability'],\n",
    "                              billboardonly['danceability'])\n",
    "\n",
    "print(f't={tval:.2f} p={pval:.3f}')"
   ]
  },
  {
   "cell_type": "code",
   "execution_count": 16,
   "id": "d1796e74",
   "metadata": {},
   "outputs": [
    {
     "data": {
      "image/png": "[encoded data removed]",
      "text/plain": [
       "<Figure size 432x288 with 1 Axes>"
      ]
     },
     "metadata": {
      "needs_background": "light"
     },
     "output_type": "display_data"
    }
   ],
   "source": [
    "# Test boxplot for 'danceability'\n",
    "plt.boxplot((spotifyonly['danceability'],\n",
    "                              billboardonly['danceability']), notch=True)\n",
    "plt.show()"
   ]
  },
  {
   "cell_type": "code",
   "execution_count": 17,
   "id": "15193eb4",
   "metadata": {},
   "outputs": [
    {
     "name": "stdout",
     "output_type": "stream",
     "text": [
      "t=0.86 p=0.390\n"
     ]
    }
   ],
   "source": [
    "# T-test for 'acousticness' metric\n",
    "tval, pval, df = sm.ttest_ind(spotifyonly['acousticness'],\n",
    "                              billboardonly['acousticness'])\n",
    "\n",
    "print(f't={tval:.2f} p={pval:.3f}')"
   ]
  },
  {
   "cell_type": "code",
   "execution_count": 18,
   "id": "03c0196e",
   "metadata": {},
   "outputs": [
    {
     "name": "stdout",
     "output_type": "stream",
     "text": [
      "t=0.97 p=0.335\n"
     ]
    }
   ],
   "source": [
    "# T-test for 'liveness' metric\n",
    "tval, pval, df = sm.ttest_ind(spotifyonly['liveness'],\n",
    "                              billboardonly['liveness'])\n",
    "\n",
    "print(f't={tval:.2f} p={pval:.3f}')"
   ]
  },
  {
   "cell_type": "code",
   "execution_count": 19,
   "id": "95ff7a11",
   "metadata": {},
   "outputs": [
    {
     "name": "stdout",
     "output_type": "stream",
     "text": [
      "t=-1.91 p=0.058\n"
     ]
    }
   ],
   "source": [
    "# T-test for 'energy' metric\n",
    "tval, pval, df = sm.ttest_ind(spotifyonly['energy'],\n",
    "                              billboardonly['energy'])\n",
    "\n",
    "print(f't={tval:.2f} p={pval:.3f}')"
   ]
  },
  {
   "cell_type": "code",
   "execution_count": 20,
   "id": "00c28100",
   "metadata": {},
   "outputs": [
    {
     "data": {
      "text/html": [
       "<div>\n",
       "<style scoped>\n",
       "    .dataframe tbody tr th:only-of-type {\n",
       "        vertical-align: middle;\n",
       "    }\n",
       "\n",
       "    .dataframe tbody tr th {\n",
       "        vertical-align: top;\n",
       "    }\n",
       "\n",
       "    .dataframe thead th {\n",
       "        text-align: right;\n",
       "    }\n",
       "</style>\n",
       "<table border=\"1\" class=\"dataframe\">\n",
       "  <thead>\n",
       "    <tr style=\"text-align: right;\">\n",
       "      <th></th>\n",
       "      <th>danceability</th>\n",
       "      <th>acousticness</th>\n",
       "      <th>energy</th>\n",
       "      <th>instrumentalness</th>\n",
       "      <th>liveness</th>\n",
       "      <th>loudness</th>\n",
       "      <th>speechiness</th>\n",
       "      <th>tempo</th>\n",
       "      <th>valence</th>\n",
       "      <th>explicit</th>\n",
       "      <th>duration_sec</th>\n",
       "    </tr>\n",
       "  </thead>\n",
       "  <tbody>\n",
       "    <tr>\n",
       "      <th>danceability</th>\n",
       "      <td>1.000000</td>\n",
       "      <td>-0.275722</td>\n",
       "      <td>-0.067519</td>\n",
       "      <td>-0.061448</td>\n",
       "      <td>-0.315481</td>\n",
       "      <td>0.137849</td>\n",
       "      <td>0.196508</td>\n",
       "      <td>-0.137139</td>\n",
       "      <td>0.238787</td>\n",
       "      <td>0.249073</td>\n",
       "      <td>-0.130635</td>\n",
       "    </tr>\n",
       "    <tr>\n",
       "      <th>acousticness</th>\n",
       "      <td>-0.275722</td>\n",
       "      <td>1.000000</td>\n",
       "      <td>-0.352722</td>\n",
       "      <td>-0.126354</td>\n",
       "      <td>-0.086695</td>\n",
       "      <td>-0.313859</td>\n",
       "      <td>-0.098960</td>\n",
       "      <td>-0.197541</td>\n",
       "      <td>0.188280</td>\n",
       "      <td>-0.274666</td>\n",
       "      <td>-0.090596</td>\n",
       "    </tr>\n",
       "    <tr>\n",
       "      <th>energy</th>\n",
       "      <td>-0.067519</td>\n",
       "      <td>-0.352722</td>\n",
       "      <td>1.000000</td>\n",
       "      <td>0.105278</td>\n",
       "      <td>0.134528</td>\n",
       "      <td>0.710937</td>\n",
       "      <td>-0.170805</td>\n",
       "      <td>0.226637</td>\n",
       "      <td>0.422940</td>\n",
       "      <td>-0.048522</td>\n",
       "      <td>0.171483</td>\n",
       "    </tr>\n",
       "    <tr>\n",
       "      <th>instrumentalness</th>\n",
       "      <td>-0.061448</td>\n",
       "      <td>-0.126354</td>\n",
       "      <td>0.105278</td>\n",
       "      <td>1.000000</td>\n",
       "      <td>0.477747</td>\n",
       "      <td>-0.078334</td>\n",
       "      <td>-0.129855</td>\n",
       "      <td>0.144777</td>\n",
       "      <td>0.017134</td>\n",
       "      <td>0.071016</td>\n",
       "      <td>-0.120460</td>\n",
       "    </tr>\n",
       "    <tr>\n",
       "      <th>liveness</th>\n",
       "      <td>-0.315481</td>\n",
       "      <td>-0.086695</td>\n",
       "      <td>0.134528</td>\n",
       "      <td>0.477747</td>\n",
       "      <td>1.000000</td>\n",
       "      <td>-0.088081</td>\n",
       "      <td>-0.137917</td>\n",
       "      <td>0.051688</td>\n",
       "      <td>-0.144234</td>\n",
       "      <td>0.175758</td>\n",
       "      <td>0.160804</td>\n",
       "    </tr>\n",
       "    <tr>\n",
       "      <th>loudness</th>\n",
       "      <td>0.137849</td>\n",
       "      <td>-0.313859</td>\n",
       "      <td>0.710937</td>\n",
       "      <td>-0.078334</td>\n",
       "      <td>-0.088081</td>\n",
       "      <td>1.000000</td>\n",
       "      <td>-0.167111</td>\n",
       "      <td>0.099286</td>\n",
       "      <td>0.408106</td>\n",
       "      <td>-0.169586</td>\n",
       "      <td>0.066378</td>\n",
       "    </tr>\n",
       "    <tr>\n",
       "      <th>speechiness</th>\n",
       "      <td>0.196508</td>\n",
       "      <td>-0.098960</td>\n",
       "      <td>-0.170805</td>\n",
       "      <td>-0.129855</td>\n",
       "      <td>-0.137917</td>\n",
       "      <td>-0.167111</td>\n",
       "      <td>1.000000</td>\n",
       "      <td>0.158691</td>\n",
       "      <td>-0.086534</td>\n",
       "      <td>0.371331</td>\n",
       "      <td>0.019121</td>\n",
       "    </tr>\n",
       "    <tr>\n",
       "      <th>tempo</th>\n",
       "      <td>-0.137139</td>\n",
       "      <td>-0.197541</td>\n",
       "      <td>0.226637</td>\n",
       "      <td>0.144777</td>\n",
       "      <td>0.051688</td>\n",
       "      <td>0.099286</td>\n",
       "      <td>0.158691</td>\n",
       "      <td>1.000000</td>\n",
       "      <td>-0.052986</td>\n",
       "      <td>0.069374</td>\n",
       "      <td>-0.009677</td>\n",
       "    </tr>\n",
       "    <tr>\n",
       "      <th>valence</th>\n",
       "      <td>0.238787</td>\n",
       "      <td>0.188280</td>\n",
       "      <td>0.422940</td>\n",
       "      <td>0.017134</td>\n",
       "      <td>-0.144234</td>\n",
       "      <td>0.408106</td>\n",
       "      <td>-0.086534</td>\n",
       "      <td>-0.052986</td>\n",
       "      <td>1.000000</td>\n",
       "      <td>-0.249051</td>\n",
       "      <td>0.000772</td>\n",
       "    </tr>\n",
       "    <tr>\n",
       "      <th>explicit</th>\n",
       "      <td>0.249073</td>\n",
       "      <td>-0.274666</td>\n",
       "      <td>-0.048522</td>\n",
       "      <td>0.071016</td>\n",
       "      <td>0.175758</td>\n",
       "      <td>-0.169586</td>\n",
       "      <td>0.371331</td>\n",
       "      <td>0.069374</td>\n",
       "      <td>-0.249051</td>\n",
       "      <td>1.000000</td>\n",
       "      <td>0.257394</td>\n",
       "    </tr>\n",
       "    <tr>\n",
       "      <th>duration_sec</th>\n",
       "      <td>-0.130635</td>\n",
       "      <td>-0.090596</td>\n",
       "      <td>0.171483</td>\n",
       "      <td>-0.120460</td>\n",
       "      <td>0.160804</td>\n",
       "      <td>0.066378</td>\n",
       "      <td>0.019121</td>\n",
       "      <td>-0.009677</td>\n",
       "      <td>0.000772</td>\n",
       "      <td>0.257394</td>\n",
       "      <td>1.000000</td>\n",
       "    </tr>\n",
       "  </tbody>\n",
       "</table>\n",
       "</div>"
      ],
      "text/plain": [
       "                  danceability  acousticness    energy  instrumentalness  \\\n",
       "danceability          1.000000     -0.275722 -0.067519         -0.061448   \n",
       "acousticness         -0.275722      1.000000 -0.352722         -0.126354   \n",
       "energy               -0.067519     -0.352722  1.000000          0.105278   \n",
       "instrumentalness     -0.061448     -0.126354  0.105278          1.000000   \n",
       "liveness             -0.315481     -0.086695  0.134528          0.477747   \n",
       "loudness              0.137849     -0.313859  0.710937         -0.078334   \n",
       "speechiness           0.196508     -0.098960 -0.170805         -0.129855   \n",
       "tempo                -0.137139     -0.197541  0.226637          0.144777   \n",
       "valence               0.238787      0.188280  0.422940          0.017134   \n",
       "explicit              0.249073     -0.274666 -0.048522          0.071016   \n",
       "duration_sec         -0.130635     -0.090596  0.171483         -0.120460   \n",
       "\n",
       "                  liveness  loudness  speechiness     tempo   valence  \\\n",
       "danceability     -0.315481  0.137849     0.196508 -0.137139  0.238787   \n",
       "acousticness     -0.086695 -0.313859    -0.098960 -0.197541  0.188280   \n",
       "energy            0.134528  0.710937    -0.170805  0.226637  0.422940   \n",
       "instrumentalness  0.477747 -0.078334    -0.129855  0.144777  0.017134   \n",
       "liveness          1.000000 -0.088081    -0.137917  0.051688 -0.144234   \n",
       "loudness         -0.088081  1.000000    -0.167111  0.099286  0.408106   \n",
       "speechiness      -0.137917 -0.167111     1.000000  0.158691 -0.086534   \n",
       "tempo             0.051688  0.099286     0.158691  1.000000 -0.052986   \n",
       "valence          -0.144234  0.408106    -0.086534 -0.052986  1.000000   \n",
       "explicit          0.175758 -0.169586     0.371331  0.069374 -0.249051   \n",
       "duration_sec      0.160804  0.066378     0.019121 -0.009677  0.000772   \n",
       "\n",
       "                  explicit  duration_sec  \n",
       "danceability      0.249073     -0.130635  \n",
       "acousticness     -0.274666     -0.090596  \n",
       "energy           -0.048522      0.171483  \n",
       "instrumentalness  0.071016     -0.120460  \n",
       "liveness          0.175758      0.160804  \n",
       "loudness         -0.169586      0.066378  \n",
       "speechiness       0.371331      0.019121  \n",
       "tempo             0.069374     -0.009677  \n",
       "valence          -0.249051      0.000772  \n",
       "explicit          1.000000      0.257394  \n",
       "duration_sec      0.257394      1.000000  "
      ]
     },
     "execution_count": 20,
     "metadata": {},
     "output_type": "execute_result"
    }
   ],
   "source": [
    "# Running correlation analysis between the variables\n",
    "track_metrics = ['danceability', 'acousticness', 'energy',\n",
    "       'instrumentalness', 'liveness', 'loudness', 'speechiness', 'tempo',\n",
    "       'valence', 'explicit', 'duration_sec' ]\n",
    "spotifyonly[track_metrics].corr()"
   ]
  },
  {
   "cell_type": "code",
   "execution_count": 21,
   "id": "e2d54d4f",
   "metadata": {},
   "outputs": [
    {
     "data": {
      "text/plain": [
       "<AxesSubplot:xlabel='acousticness', ylabel='energy'>"
      ]
     },
     "execution_count": 21,
     "metadata": {},
     "output_type": "execute_result"
    },
    {
     "data": {
      "image/png": "[encoded data removed]",
      "text/plain": [
       "<Figure size 432x288 with 1 Axes>"
      ]
     },
     "metadata": {
      "needs_background": "light"
     },
     "output_type": "display_data"
    }
   ],
   "source": [
    "# Test plot showing the relationship between 'acousticness' and 'energy' for Spotify-only songs\n",
    "sns.regplot(x='acousticness', y='energy', data=spotifyonly)"
   ]
  },
  {
   "cell_type": "code",
   "execution_count": 22,
   "id": "cb981cdc",
   "metadata": {},
   "outputs": [
    {
     "data": {
      "text/plain": [
       "<seaborn.matrix.ClusterGrid at 0x7feeb95f86d0>"
      ]
     },
     "execution_count": 22,
     "metadata": {},
     "output_type": "execute_result"
    },
    {
     "data": {
      "image/png": "[encoded data removed]",
      "text/plain": [
       "<Figure size 720x720 with 4 Axes>"
      ]
     },
     "metadata": {
      "needs_background": "light"
     },
     "output_type": "display_data"
    }
   ],
   "source": [
    "# K-means cluster map grouping similar variables within the Spotify-only list\n",
    "sns.clustermap(spotifyonly[track_metrics].corr())"
   ]
  },
  {
   "cell_type": "markdown",
   "id": "67debdf9",
   "metadata": {},
   "source": [
    "Now, we wanted to look at how the top artists with songs specific to each chart vary in terms of Spotify's track-level metrics."
   ]
  },
  {
   "cell_type": "code",
   "execution_count": 23,
   "id": "30fbfb34",
   "metadata": {},
   "outputs": [],
   "source": [
    "# Identifying songs by artists on each chart who have more than 3 songs on that chart\n",
    "spotify_topartists = spotifyonly.groupby(\"artist\").filter(lambda x: len(x) >= 3)\n",
    "billboard_topartists = billboardonly.groupby(\"artist\").filter(lambda x: len(x) >= 3)"
   ]
  },
  {
   "cell_type": "code",
   "execution_count": 24,
   "id": "55221845",
   "metadata": {},
   "outputs": [
    {
     "data": {
      "text/plain": [
       "Juice WRLD      11\n",
       "Post Malone      6\n",
       "Travis Scott     4\n",
       "Drake            3\n",
       "Name: artist, dtype: int64"
      ]
     },
     "execution_count": 24,
     "metadata": {},
     "output_type": "execute_result"
    }
   ],
   "source": [
    "spotify_topartists['artist'].value_counts() # Displaying top Spotify artists"
   ]
  },
  {
   "cell_type": "code",
   "execution_count": 25,
   "id": "127cdd9f",
   "metadata": {},
   "outputs": [
    {
     "data": {
      "text/plain": [
       "Maroon 5        5\n",
       "Shawn Mendes    3\n",
       "Chris Brown     3\n",
       "BTS             3\n",
       "Name: artist, dtype: int64"
      ]
     },
     "execution_count": 25,
     "metadata": {},
     "output_type": "execute_result"
    }
   ],
   "source": [
    "billboard_topartists['artist'].value_counts() # Displaying top Billboard artists"
   ]
  },
  {
   "cell_type": "markdown",
   "id": "685bcc37",
   "metadata": {},
   "source": [
    "Juice WRLD, Post Malone, Travis Scott, and Drake are the top artists on the Spotify charts, when only looking at songs which have only appeared on Spotify, but not Billboard. Likewise, Maroon 5, Shawn Mendes, Chris Brown, and BTS are the top artists on the Billboard charts, when looking at Billboard-only songs. "
   ]
  },
  {
   "cell_type": "code",
   "execution_count": 26,
   "id": "9e5d9c4e",
   "metadata": {},
   "outputs": [
    {
     "data": {
      "image/png": "[encoded data removed]",
      "text/plain": [
       "<Figure size 432x288 with 1 Axes>"
      ]
     },
     "metadata": {
      "needs_background": "light"
     },
     "output_type": "display_data"
    }
   ],
   "source": [
    "# Calculating means to plot\n",
    "spotify_ta_dance = spotify_topartists['danceability'].mean()\n",
    "spotify_ta_valence = spotify_topartists['valence'].mean()\n",
    "spotify_ta_acous = spotify_topartists['acousticness'].mean()\n",
    "spotify_ta_live = spotify_topartists['liveness'].mean()\n",
    "billboard_ta_dance = billboard_topartists['danceability'].mean()\n",
    "billboard_ta_valence = billboard_topartists['valence'].mean()\n",
    "billboard_ta_acous = billboard_topartists['acousticness'].mean()\n",
    "billboard_ta_live = billboard_topartists['liveness'].mean()\n",
    "\n",
    "# Creating new dataframe and plotting\n",
    "tasongdance = [spotify_ta_dance, billboard_ta_dance]\n",
    "tasongvalence = [spotify_ta_valence, billboard_ta_valence]\n",
    "tasongacous = [spotify_ta_acous, billboard_ta_acous]\n",
    "tasonglive = [spotify_ta_live, billboard_ta_live]\n",
    "\n",
    "index = ['Spotify Top Artists', 'Billboard Top Artists']\n",
    "de_mean_df = pd.DataFrame({\n",
    "    'danceability' : tasongdance, \n",
    "    'valence' : tasongvalence,\n",
    "    'liveness' : tasonglive,\n",
    "    'acousticness' : tasongacous}, index = index)\n",
    "\n",
    "de_mean_df.plot.bar(rot = 0)\n",
    "plt.legend(bbox_to_anchor=(1, 1))\n",
    "plt.title('Mean Danceability/Valence/Acousticness/Liveness: \\nSpotify vs. Billboard Top Artists')\n",
    "plt.ylabel('Mean Ratings')\n",
    "plt.xlabel('\\nChart by Srinidhi, Source: Spotify and Billboard')\n",
    "plt.tight_layout()\n",
    "plt.savefig('../final_data_story/img_datastory/top_artists.png')\n",
    "plt.show()"
   ]
  },
  {
   "cell_type": "markdown",
   "id": "0d48eee7",
   "metadata": {},
   "source": [
    "Notably, the mean valence in Billboard's top artists drastically exceeds Spotify top artists' mean valence. Mean acousticness is also higher in Billboard's top artists. Danceability seems to remain about the same on both charts, and although Spotify seems to have a higher mean liveness, the variable liveness is not as relevant here, since a quick look at the playlists will tell us none of these songs on the charts were recorded live with an audience."
   ]
  },
  {
   "cell_type": "code",
   "execution_count": 27,
   "id": "89245604",
   "metadata": {},
   "outputs": [
    {
     "name": "stdout",
     "output_type": "stream",
     "text": [
      "                           SPOTIFY                       BILLBOARD                T-VALUE              P-VALUE\n",
      "===================================================================================================================\n",
      "Mean Valence                 0.37                           0.57                   -2.84                0.007\n",
      "Mean Acousticness            0.14                           0.18                   -0.52                0.604\n"
     ]
    }
   ],
   "source": [
    "# Conducting significance tests\n",
    "spotifyta_valmean = spotify_topartists['valence'].mean()\n",
    "billboardta_valmean = billboard_topartists['valence'].mean()\n",
    "spotifyta_acousmean = spotify_topartists['acousticness'].mean()\n",
    "billboardta_acousmean = billboard_topartists['acousticness'].mean()\n",
    "\n",
    "t_val, p_val, df_val = sm.ttest_ind(spotify_topartists['valence'], billboard_topartists['valence'])\n",
    "t_acous, p_acous, df_acous = sm.ttest_ind(spotify_topartists['acousticness'], billboard_topartists['acousticness'])\n",
    "\n",
    "print(' ' * 27 + 'SPOTIFY' + ' ' * 23 + 'BILLBOARD' + ' ' * 16 + 'T-VALUE' + ' ' * 14 + 'P-VALUE')\n",
    "print('=' * 115)\n",
    "print(f'Mean Valence {spotifyta_valmean:>20.2f} {billboardta_valmean:>30.2f} {t_val:>23.2f} {p_val:20.3f}')\n",
    "print(f'Mean Acousticness {spotifyta_acousmean:>15.2f} {billboardta_acousmean:>30.2f} {t_acous:>23.2f} {p_acous:20.3f}')"
   ]
  },
  {
   "cell_type": "markdown",
   "id": "b4781fcb",
   "metadata": {},
   "source": [
    "The difference in valence, but not the difference in acousticness, is significant. The songs of Billboard's top artists tend to have a higher valence / positiveness than the songs of Spotify's top artists. "
   ]
  }
 ],
 "metadata": {
  "kernelspec": {
   "display_name": "Python 3 (COMM318)",
   "language": "python",
   "name": "python3"
  },
  "language_info": {
   "codemirror_mode": {
    "name": "ipython",
    "version": 3
   },
   "file_extension": ".py",
   "mimetype": "text/x-python",
   "name": "python",
   "nbconvert_exporter": "python",
   "pygments_lexer": "ipython3",
   "version": "3.8.8"
  }
 },
 "nbformat": 4,
 "nbformat_minor": 5
}
