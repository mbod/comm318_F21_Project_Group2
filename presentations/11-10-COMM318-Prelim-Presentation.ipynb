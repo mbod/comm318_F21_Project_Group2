{
 "cells": [
  {
   "cell_type": "markdown",
   "id": "48b22ac8",
   "metadata": {
    "slideshow": {
     "slide_type": "slide"
    }
   },
   "source": [
    "# What makes songs popular on the Billboard charts versus on Spotify?\n",
    "\n",
    "![](img/hot-100-logo.jpg)\n",
    "\n",
    "### Srinidhi Ramakrishna & Chris Chien"
   ]
  },
  {
   "cell_type": "markdown",
   "id": "b5bb3c3f",
   "metadata": {
    "slideshow": {
     "slide_type": "slide"
    }
   },
   "source": [
    "#### Introduction ####\n",
    "\n",
    "- In recent years, the definition of 'popular' music has been increasingly tied to the metrics different charts use to determine performance.\n",
    "- Rise of streaming services (i.e. Spotify) --> transformed music listening and marketing patterns\n",
    "- _As artists and labels adapt to new technology, their music itself will change too._\n"
   ]
  },
  {
   "cell_type": "markdown",
   "id": "0f2435ec",
   "metadata": {
    "slideshow": {
     "slide_type": "slide"
    }
   },
   "source": [
    "#### Research Question and Hypothesis ####\n",
    "\n",
    "- How do different musical characteristics in pop songs affect chart performance on: \n",
    "    - 1: Billboard's Hot 100 (more traditional - sales & radio play included)\n",
    "    - 2: Spotify's US Weekly Top 200 (just streaming numbers) "
   ]
  },
  {
   "cell_type": "markdown",
   "id": "6cdf9dff",
   "metadata": {
    "slideshow": {
     "slide_type": "subslide"
    }
   },
   "source": [
    "#### Research Question and Hypothesis ####\n",
    "\n",
    "- Some proposed hypotheses:\n",
    "    - We think songs popular on Spotify will be _shorter_ than songs popular on Billboard\n",
    "    - We think songs popular on Spotify will be _more danceable_ than songs popular on Billboard \n",
    "    - We think songs classified as hip-hop will be more popular on Spotify than on Billboard\n",
    "    - We think songs popularized by TikTok will be more popular on Spotify than on Billboard "
   ]
  },
  {
   "cell_type": "markdown",
   "id": "a9407959",
   "metadata": {
    "slideshow": {
     "slide_type": "slide"
    }
   },
   "source": [
    "#### Data & Methods to Obtain ####\n",
    "\n",
    "- We can use community-made APIs to access both the Spotify and Billboard databases\n",
    "    - Billboard: [billboard.py](https://pypi.org/project/billboard.py/)\n",
    "    - Spotify: [SpotifyUserAPI](https://rapidapi.com/serg.osipchuk/api/SpotifyUserAPI/details)"
   ]
  },
  {
   "cell_type": "markdown",
   "id": "632c2d25",
   "metadata": {
    "slideshow": {
     "slide_type": "subslide"
    }
   },
   "source": [
    "#### Data & Methods to Obtain ####\n",
    "\n",
    "- Data Overview:\n",
    "    - Billboard: # weeks charted, peak chart position, date of entry/exit\n",
    "    - Spotify: Similar performance metrics, PLUS data on the songs themselves\n",
    "        - Runtime, genre, key/chords, custom Spotify classification metrics (danceability, loudness, etc.)\n",
    "    - Project scope TBD (one quarter? one year? multiple years?)"
   ]
  },
  {
   "cell_type": "markdown",
   "id": "bdd926ce",
   "metadata": {
    "slideshow": {
     "slide_type": "slide"
    }
   },
   "source": [
    "#### Planned Analyses ####\n",
    "\n",
    "- Summary statistics of both charts (i.e. mean danceability, length, etc.) between charts\n",
    "- Case study analyses of certain songs (i.e. a well-known TikTok song)\n",
    "- Time series graphs visualizing song performance on different charts over time\n",
    "\n",
    "![](img/exampletimeseries.png)"
   ]
  }
 ],
 "metadata": {
  "celltoolbar": "Slideshow",
  "kernelspec": {
   "display_name": "Python 3 (COMM318)",
   "language": "python",
   "name": "python3"
  },
  "language_info": {
   "codemirror_mode": {
    "name": "ipython",
    "version": 3
   },
   "file_extension": ".py",
   "mimetype": "text/x-python",
   "name": "python",
   "nbconvert_exporter": "python",
   "pygments_lexer": "ipython3",
   "version": "3.8.8"
  }
 },
 "nbformat": 4,
 "nbformat_minor": 5
}
