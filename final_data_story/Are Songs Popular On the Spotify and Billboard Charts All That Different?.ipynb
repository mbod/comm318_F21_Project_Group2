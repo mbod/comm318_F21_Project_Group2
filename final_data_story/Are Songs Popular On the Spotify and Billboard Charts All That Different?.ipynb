{
 "cells": [
  {
   "cell_type": "markdown",
   "id": "cf5a616c",
   "metadata": {},
   "source": [
    "# Are Songs Popular On the Spotify and Billboard Charts All That Different?\n",
    "_By Srinidhi Ramakrishna and Chris Chien_\n",
    "\n",
    "![](img_datastory/billboardvsspotify.jpg)\n",
    "\n",
    "<figcaption align = \"center\"> Created by Srinidhi Ramakrishna on Canva. Logos courtesy of Spotify and Billboard. </figcaption>\n",
    "\n"
   ]
  },
  {
   "cell_type": "code",
   "execution_count": 1,
   "id": "282e5b23",
   "metadata": {},
   "outputs": [],
   "source": [
    "# Setup the notebook\n",
    "import pandas as pd\n",
    "import matplotlib.pyplot as plt\n",
    "import statsmodels.stats.weightstats as sm\n",
    "import seaborn as sns\n",
    "from sklearn.cluster import KMeans\n",
    "from tabulate import tabulate"
   ]
  },
  {
   "cell_type": "markdown",
   "id": "32a5fc88",
   "metadata": {},
   "source": [
    "### Introduction\n",
    "\n",
    "_What are you listening to?_\n",
    "\n",
    "As two performing musicians, both of us are keenly interested in observing new trends in music. We've noticed that with new recording technology, distribution management, and business practices, the landscape of popular music has been changing dramatically in ways unthinkable just a few decades ago. \n",
    "\n",
    "_Has anyone ever told you that 'pop music nowadays all sounds the same'?_\n",
    "\n",
    "It's a bit more nuanced than that. The definition of 'popular' music changed depending on the metrics different charts use to determine song performance. One of the biggest changes to music recent years has been the advent of streaming services like Spotify and Apple Music, making music more accessible than it's ever been. Think about it – in 1990, would anyone have thought we could have immediate access to billions of songs at our pleasure from a small device in our pockets?\n",
    "\n",
    "Such streaming services have drastically transformed not just our music listening patterns, but marketing patterns and artist approaches as well. _We predict that as new technology and consumer patterns influence the music industry and how tracks achieve success, the musical characteristics of the songs which grow popular will change too._"
   ]
  },
  {
   "cell_type": "markdown",
   "id": "02a98e1b",
   "metadata": {},
   "source": [
    "**What's the analysis?**\n",
    "\n",
    "Both establishment institutions and new platforms wield strong influence as the music industry transforms. With this in mind, we set out to explore _if songs popular on two separate music charts – one establishment, one more new – differed in their musical characteristics._ They are: \n",
    "\n",
    "- The Billboard Year-End Hot 100, a more traditional, legacy chart which measures a song's cumulative performance in a particular year. It has been the music industry standard for rating song popularity in the US, since it began ranking songs in the mid-1950s. The Billboard Hot 100 takes into account more _old-fashioned metrics like physical song sales and radio play_, and has incoporated streaming data since 2007. In 2018, Billboard [began](https://www.stereogum.com/1968115/billboard-charts-will-adjust-streaming-weighting-in-2018/news/) weighting streams on paid subscription services more than streams on non-paid tiers, likely lowering the influence of streaming data on its rankings. \n",
    "\n",
    "- Spotify's Top Tracks in the USA playlists. These measure and rank the most-streamed songs on Spotify in the US in a particular year, and naturally _only take into account streaming numbers_. \n",
    "\n",
    "Since Spotify has only ever released Top Tracks in the USA playlists in 2017, 2020, and 2021, our analysis only looks at these three years. \n",
    "\n",
    "To get our data, we used Spotify and Billboard's APIs to extract chart rankings across the three years and track-level audio metrics which Spotify maintains for all songs on the platform via machine learning algorithms. A full description of our data collection is in the **Data Collection** subfolder in the **data_analysis** folder. \n",
    "\n",
    "Here are links to all the charts/playlists we used:\n",
    "\n",
    "- Billboard Year-End Hot 100 (in the form of Spotify playlists, each playlist contains 100 songs):\n",
    "    - [2017](https://open.spotify.com/user/whe1998/playlist/255aUSCuVTcdD5JTogG69d?si=JCHWINVIRPiW3K_aGVzgcg)\n",
    "    - [2020](https://open.spotify.com/user/zoscar_/playlist/1WBljFutuk7uLQtfqfmjWV?si=DnFDuF-0SRuIfMVzPC6hOg)\n",
    "    - [2021](https://open.spotify.com/user/11148724827/playlist/5Nt7KFSEfXIlsDIB8SCpNU?si=OVkxCLXiRxOzd3_iOsycHQ). \n",
    "\n",
    "- Spotify Top Tracks in the USA:\n",
    "    - [2017](https://open.spotify.com/user/spotify/playlist/37i9dQZF1DX7Axsg3uaDZb?si=IAEexkHXRTGnpkaGpZ0Fxw): 98 songs\n",
    "    - [2020](https://open.spotify.com/user/spotify/playlist/37i9dQZF1DXaqCgtv7ZR3L?si=eAq2hBqrTR-s5M99y-vQeQ): 50 songs\n",
    "    - [2021](https://open.spotify.com/user/spotify/playlist/37i9dQZF1DXbJMiQ53rTyJ?si=ew2jD3DSQE2F-4Mywlu-6g): 50 songs\n",
    "    \n",
    "Thus, we have _six datasets_ containing audio data on all the songs in the Billboard or Spotify charts across three years!"
   ]
  },
  {
   "cell_type": "markdown",
   "id": "e2bcb525",
   "metadata": {},
   "source": [
    "### The Data"
   ]
  },
  {
   "cell_type": "code",
   "execution_count": 2,
   "id": "e327ea73",
   "metadata": {},
   "outputs": [],
   "source": [
    "# Load the data\n",
    "# This data has already been cleaned.\n",
    "\n",
    "billboard2017_clean = pd.read_csv('../data/Clean/billboard2017cleaned.csv', index_col=0)\n",
    "billboard2020_clean = pd.read_csv('../data/Clean/billboard2020cleaned.csv', index_col=0)\n",
    "billboard2021_clean = pd.read_csv('../data/Clean/billboard2021cleaned.csv', index_col=0)\n",
    "spotify2017_clean = pd.read_csv('../data/Clean/spotifytop2017cleaned.csv', index_col=0)\n",
    "spotify2020_clean = pd.read_csv('../data/Clean/spotifytop2020cleaned.csv', index_col=0)\n",
    "spotify2021_clean = pd.read_csv('../data/Clean/spotifytop2021cleaned.csv', index_col=0)\n",
    "spotifyonly = pd.read_csv(\"../data/Clean/spotifyonly_allyears.csv\", index_col=0)\n",
    "billboardonly = pd.read_csv(\"../data/Clean/billboardonly_allyears.csv\", index_col=0)"
   ]
  },
  {
   "cell_type": "markdown",
   "id": "39c98594",
   "metadata": {},
   "source": [
    "**What's the data?**\n",
    "\n",
    "Let's understand our data and variables a little bit better. Besides the number of songs they contain, all the datasets for a particular chart across the three years measure the exact same variables. For example, let's look at the 2017 datasets: "
   ]
  },
  {
   "cell_type": "code",
   "execution_count": 37,
   "id": "22f7b43d",
   "metadata": {},
   "outputs": [
    {
     "data": {
      "text/html": [
       "<div>\n",
       "<style scoped>\n",
       "    .dataframe tbody tr th:only-of-type {\n",
       "        vertical-align: middle;\n",
       "    }\n",
       "\n",
       "    .dataframe tbody tr th {\n",
       "        vertical-align: top;\n",
       "    }\n",
       "\n",
       "    .dataframe thead th {\n",
       "        text-align: right;\n",
       "    }\n",
       "</style>\n",
       "<table border=\"1\" class=\"dataframe\">\n",
       "  <thead>\n",
       "    <tr style=\"text-align: right;\">\n",
       "      <th></th>\n",
       "      <th>rank</th>\n",
       "      <th>name</th>\n",
       "      <th>album</th>\n",
       "      <th>artist</th>\n",
       "      <th>release_date</th>\n",
       "      <th>danceability</th>\n",
       "      <th>acousticness</th>\n",
       "      <th>energy</th>\n",
       "      <th>instrumentalness</th>\n",
       "      <th>liveness</th>\n",
       "      <th>loudness</th>\n",
       "      <th>speechiness</th>\n",
       "      <th>tempo</th>\n",
       "      <th>valence</th>\n",
       "      <th>explicit</th>\n",
       "      <th>duration_sec</th>\n",
       "    </tr>\n",
       "  </thead>\n",
       "  <tbody>\n",
       "    <tr>\n",
       "      <th>0</th>\n",
       "      <td>1</td>\n",
       "      <td>HUMBLE.</td>\n",
       "      <td>DAMN.</td>\n",
       "      <td>Kendrick Lamar</td>\n",
       "      <td>2017-04-14</td>\n",
       "      <td>0.908</td>\n",
       "      <td>0.000282</td>\n",
       "      <td>0.621</td>\n",
       "      <td>0.000054</td>\n",
       "      <td>0.0958</td>\n",
       "      <td>-6.638</td>\n",
       "      <td>0.1020</td>\n",
       "      <td>150.011</td>\n",
       "      <td>0.421</td>\n",
       "      <td>True</td>\n",
       "      <td>177.000</td>\n",
       "    </tr>\n",
       "    <tr>\n",
       "      <th>1</th>\n",
       "      <td>2</td>\n",
       "      <td>XO Tour Llif3</td>\n",
       "      <td>Luv Is Rage 2</td>\n",
       "      <td>Lil Uzi Vert</td>\n",
       "      <td>2017-08-25</td>\n",
       "      <td>0.732</td>\n",
       "      <td>0.002640</td>\n",
       "      <td>0.750</td>\n",
       "      <td>0.000000</td>\n",
       "      <td>0.1090</td>\n",
       "      <td>-6.366</td>\n",
       "      <td>0.2310</td>\n",
       "      <td>155.096</td>\n",
       "      <td>0.401</td>\n",
       "      <td>True</td>\n",
       "      <td>182.706</td>\n",
       "    </tr>\n",
       "    <tr>\n",
       "      <th>2</th>\n",
       "      <td>3</td>\n",
       "      <td>Shape of You</td>\n",
       "      <td>÷ (Deluxe)</td>\n",
       "      <td>Ed Sheeran</td>\n",
       "      <td>2017-03-03</td>\n",
       "      <td>0.825</td>\n",
       "      <td>0.581000</td>\n",
       "      <td>0.652</td>\n",
       "      <td>0.000000</td>\n",
       "      <td>0.0931</td>\n",
       "      <td>-3.183</td>\n",
       "      <td>0.0802</td>\n",
       "      <td>95.977</td>\n",
       "      <td>0.931</td>\n",
       "      <td>False</td>\n",
       "      <td>233.712</td>\n",
       "    </tr>\n",
       "    <tr>\n",
       "      <th>3</th>\n",
       "      <td>4</td>\n",
       "      <td>Congratulations</td>\n",
       "      <td>Stoney (Deluxe)</td>\n",
       "      <td>Post Malone</td>\n",
       "      <td>2016-12-09</td>\n",
       "      <td>0.630</td>\n",
       "      <td>0.215000</td>\n",
       "      <td>0.804</td>\n",
       "      <td>0.000000</td>\n",
       "      <td>0.2530</td>\n",
       "      <td>-4.183</td>\n",
       "      <td>0.0363</td>\n",
       "      <td>123.146</td>\n",
       "      <td>0.492</td>\n",
       "      <td>True</td>\n",
       "      <td>220.293</td>\n",
       "    </tr>\n",
       "    <tr>\n",
       "      <th>4</th>\n",
       "      <td>5</td>\n",
       "      <td>Despacito - Remix</td>\n",
       "      <td>Despacito Feat. Justin Bieber (Remix)</td>\n",
       "      <td>Luis Fonsi</td>\n",
       "      <td>2017-04-17</td>\n",
       "      <td>0.694</td>\n",
       "      <td>0.229000</td>\n",
       "      <td>0.815</td>\n",
       "      <td>0.000000</td>\n",
       "      <td>0.0924</td>\n",
       "      <td>-4.328</td>\n",
       "      <td>0.1200</td>\n",
       "      <td>88.931</td>\n",
       "      <td>0.813</td>\n",
       "      <td>False</td>\n",
       "      <td>228.826</td>\n",
       "    </tr>\n",
       "  </tbody>\n",
       "</table>\n",
       "</div>"
      ],
      "text/plain": [
       "   rank               name                                  album  \\\n",
       "0     1            HUMBLE.                                  DAMN.   \n",
       "1     2      XO Tour Llif3                          Luv Is Rage 2   \n",
       "2     3       Shape of You                             ÷ (Deluxe)   \n",
       "3     4    Congratulations                        Stoney (Deluxe)   \n",
       "4     5  Despacito - Remix  Despacito Feat. Justin Bieber (Remix)   \n",
       "\n",
       "           artist release_date  danceability  acousticness  energy  \\\n",
       "0  Kendrick Lamar   2017-04-14         0.908      0.000282   0.621   \n",
       "1    Lil Uzi Vert   2017-08-25         0.732      0.002640   0.750   \n",
       "2      Ed Sheeran   2017-03-03         0.825      0.581000   0.652   \n",
       "3     Post Malone   2016-12-09         0.630      0.215000   0.804   \n",
       "4      Luis Fonsi   2017-04-17         0.694      0.229000   0.815   \n",
       "\n",
       "   instrumentalness  liveness  loudness  speechiness    tempo  valence  \\\n",
       "0          0.000054    0.0958    -6.638       0.1020  150.011    0.421   \n",
       "1          0.000000    0.1090    -6.366       0.2310  155.096    0.401   \n",
       "2          0.000000    0.0931    -3.183       0.0802   95.977    0.931   \n",
       "3          0.000000    0.2530    -4.183       0.0363  123.146    0.492   \n",
       "4          0.000000    0.0924    -4.328       0.1200   88.931    0.813   \n",
       "\n",
       "   explicit  duration_sec  \n",
       "0      True       177.000  \n",
       "1      True       182.706  \n",
       "2     False       233.712  \n",
       "3      True       220.293  \n",
       "4     False       228.826  "
      ]
     },
     "execution_count": 37,
     "metadata": {},
     "output_type": "execute_result"
    }
   ],
   "source": [
    "# Spotify 2017 data\n",
    "spotify2017_clean.head(5)"
   ]
  },
  {
   "cell_type": "code",
   "execution_count": 38,
   "id": "0cdbe241",
   "metadata": {},
   "outputs": [
    {
     "data": {
      "text/plain": [
       "(98, 16)"
      ]
     },
     "execution_count": 38,
     "metadata": {},
     "output_type": "execute_result"
    }
   ],
   "source": [
    "# Getting rows and columns\n",
    "spotify2017_clean.shape "
   ]
  },
  {
   "cell_type": "markdown",
   "id": "32dc3134",
   "metadata": {},
   "source": [
    "This dataset has 98 rows and 16 columns, with each row representing a song ordered in accordance with popularity on Spotify in the US in 2017 (i.e. HUMBLE. was the most streamed US song on the platform in 2017). We confirmed this via several [external sources](https://time.com/5050155/spotify-2017-most-streamed-music/) reporting that this dataset/playlist was ordered by popularity.\n",
    "\n",
    "A variety of track-level metrics are recorded for each song beyond the song name, album, and artist. We focused on a few metrics, like:\n",
    "\n",
    "- **Danceability**: ranges from 0.0-1.0, uses elements like tempo and rhythm stability to determine how appropriate the song is for dancing.\n",
    "- **Acousticness**: ranges from 0.0-1.0, measures how acoustic a song sounds (as opposed to electric or electronic music).\n",
    "- **Energy**: ranges from 0.0-1.0, uses elements like loudness and dynamic range to measure a song's intensity and activity.\n",
    "- **Liveness**: ranges from 0.0-1.0, measures presence of an audience in a song to determine if a track was performed live.\n",
    "- **Valence**: ranges from 0.0-1.0, measures level of positiveness in a track (i.e. tracks with valences closer to 1 sound happier).\n",
    "- **duration_sec**: Song length in seconds.\n",
    "\n",
    "A description of all metrics in the dataset can be found [here](https://rpubs.com/PeterDola/SpotifyTracks)."
   ]
  },
  {
   "cell_type": "code",
   "execution_count": 5,
   "id": "b437eea1",
   "metadata": {},
   "outputs": [
    {
     "data": {
      "text/html": [
       "<div>\n",
       "<style scoped>\n",
       "    .dataframe tbody tr th:only-of-type {\n",
       "        vertical-align: middle;\n",
       "    }\n",
       "\n",
       "    .dataframe tbody tr th {\n",
       "        vertical-align: top;\n",
       "    }\n",
       "\n",
       "    .dataframe thead th {\n",
       "        text-align: right;\n",
       "    }\n",
       "</style>\n",
       "<table border=\"1\" class=\"dataframe\">\n",
       "  <thead>\n",
       "    <tr style=\"text-align: right;\">\n",
       "      <th></th>\n",
       "      <th>Rank</th>\n",
       "      <th>name</th>\n",
       "      <th>album</th>\n",
       "      <th>artist</th>\n",
       "      <th>release_date</th>\n",
       "      <th>duration_ms</th>\n",
       "      <th>popularity</th>\n",
       "      <th>danceability</th>\n",
       "      <th>acousticness</th>\n",
       "      <th>energy</th>\n",
       "      <th>instrumentalness</th>\n",
       "      <th>liveness</th>\n",
       "      <th>loudness</th>\n",
       "      <th>speechiness</th>\n",
       "      <th>tempo</th>\n",
       "      <th>time_signature</th>\n",
       "      <th>valence</th>\n",
       "      <th>explicit</th>\n",
       "      <th>duration_sec</th>\n",
       "    </tr>\n",
       "  </thead>\n",
       "  <tbody>\n",
       "    <tr>\n",
       "      <th>11</th>\n",
       "      <td>12</td>\n",
       "      <td>I'm the One (feat. Justin Bieber, Quavo, Chanc...</td>\n",
       "      <td>Grateful</td>\n",
       "      <td>DJ Khaled</td>\n",
       "      <td>2017-06-22</td>\n",
       "      <td>288600</td>\n",
       "      <td>75</td>\n",
       "      <td>0.609</td>\n",
       "      <td>0.0552</td>\n",
       "      <td>0.668</td>\n",
       "      <td>0.0</td>\n",
       "      <td>0.167</td>\n",
       "      <td>-4.284</td>\n",
       "      <td>0.0367</td>\n",
       "      <td>80.924</td>\n",
       "      <td>4</td>\n",
       "      <td>0.811</td>\n",
       "      <td>True</td>\n",
       "      <td>288.6</td>\n",
       "    </tr>\n",
       "  </tbody>\n",
       "</table>\n",
       "</div>"
      ],
      "text/plain": [
       "    Rank                                               name     album  \\\n",
       "11    12  I'm the One (feat. Justin Bieber, Quavo, Chanc...  Grateful   \n",
       "\n",
       "       artist release_date  duration_ms  popularity  danceability  \\\n",
       "11  DJ Khaled   2017-06-22       288600          75         0.609   \n",
       "\n",
       "    acousticness  energy  instrumentalness  liveness  loudness  speechiness  \\\n",
       "11        0.0552   0.668               0.0     0.167    -4.284       0.0367   \n",
       "\n",
       "     tempo  time_signature  valence  explicit  duration_sec  \n",
       "11  80.924               4    0.811      True         288.6  "
      ]
     },
     "execution_count": 5,
     "metadata": {},
     "output_type": "execute_result"
    }
   ],
   "source": [
    "# Billboard 2017 data\n",
    "billboard2017_clean.sample()"
   ]
  },
  {
   "cell_type": "markdown",
   "id": "31597e16",
   "metadata": {},
   "source": [
    "The Billboard datasets measure exactly the same metrics. "
   ]
  },
  {
   "cell_type": "markdown",
   "id": "31e82ec7",
   "metadata": {},
   "source": [
    "### What's our research question?\n",
    "\n",
    "Before we begin analyzing, let's go over what we want to analyze and some hypotheses. Our main question is – **Based on the audio metrics we have, are songs which chart on Spotify sonically different than songs which chart on Billboard and if so, how?**\n",
    "\n",
    "For example:\n",
    "- Will Spotify-charting songs have more dispersed durations than Billboard-charting songs? (We think yes, because of volatile radio listeners who can switch between stations and 3-minute 'radio edits' of songs. Because of the popularity of short TikTok songs and the ability for artists to release long songs on Spotify, maybe the Spotify song charts will have a variety of lengths.)\n",
    "- Will Billboard-charting songs be more danceable and have higher valences than Spotify-charting songs? (We think yes, because songs on the radio tend to be lively, bouncy crowd-pleasers)\n",
    "- Will there be more explicit songs on the Spotify charts vs. the Billboard charts? (We think yes, because of radio regulations creating the need to edit explicit songs before broadcasting)\n",
    "- Although we don't have metrics on genre classification, can we draw any assumptions based on our previous analyses and qualitative observations on which genres succeed on which charts?\n",
    "\n",
    "We'll take a look at these questions and more!"
   ]
  },
  {
   "cell_type": "markdown",
   "id": "32bd0bda",
   "metadata": {},
   "source": [
    "Initial data exploration (if needed - can add stuff from i.e. the spotify step 1 and 2 notebooks)"
   ]
  },
  {
   "cell_type": "markdown",
   "id": "486eb5e0",
   "metadata": {},
   "source": [
    "### What Happens When We Compare the Spotify and Billboard Charts?\n",
    "\n",
    "Now, we wanted to bring in the Billboard data to do some initial comparisons. We didn't know if the differences between the Spotify and Billboard charts are large enough to justify comparing the full datasets outright – yet. First, let's compare the Spotify and Billboard charts for 2017 and 2020 and see.\n",
    "\n",
    "Because songs on the radio tend to be peppy and crowd-pleasing due to the broad mass market of radio listeners, we thought that the Billboard charts will score higher in danceability and energy. \n",
    "\n",
    "We plotted means of these metrics in the two charts in 2017 and 2020:"
   ]
  },
  {
   "cell_type": "code",
   "execution_count": 6,
   "id": "67a84c07",
   "metadata": {},
   "outputs": [],
   "source": [
    "## Comparing mean danceability/energy between 2017 Spotify/Billboard year-end charts\n",
    "# Computing means in 2017\n",
    "spotify2017_mean_dance = spotify2017_clean['danceability'].mean()\n",
    "spotify2017_mean_energy = spotify2017_clean['energy'].mean()\n",
    "billboard2017_mean_dance = billboard2017_clean['danceability'].mean()\n",
    "billboard2017_mean_energy = billboard2017_clean['energy'].mean()\n",
    "\n",
    "# Creating new dataframe and plotting object\n",
    "dance_2017 = [spotify2017_mean_dance, billboard2017_mean_dance]\n",
    "energy_2017 = [spotify2017_mean_energy, billboard2017_mean_energy]\n",
    "index = ['Spotify', 'Billboard']\n",
    "de2017_mean_df = pd.DataFrame({'danceability' : dance_2017, 'energy' : energy_2017}, index = index)\n",
    "\n",
    "# Computing means in 2020\n",
    "spotify2020_mean_dance = spotify2020_clean['danceability'].mean()\n",
    "spotify2020_mean_energy = spotify2020_clean['energy'].mean()\n",
    "billboard2020_mean_dance = billboard2020_clean['danceability'].mean()\n",
    "billboard2020_mean_energy = billboard2020_clean['energy'].mean()\n",
    "\n",
    "# Creating new dataframe and plotting object\n",
    "dance_2020 = [spotify2020_mean_dance, billboard2020_mean_dance]\n",
    "energy_2020 = [spotify2020_mean_energy, billboard2020_mean_energy]\n",
    "index = ['Spotify', 'Billboard']\n",
    "de2020_mean_df = pd.DataFrame({'danceability' : dance_2020, 'energy' : energy_2020}, index = index)\n",
    "\n",
    "# Computing means in 2021\n",
    "spotify2021_mean_dance = spotify2021_clean['danceability'].mean()\n",
    "spotify2021_mean_energy = spotify2021_clean['energy'].mean()\n",
    "billboard2021_mean_dance = billboard2021_clean['danceability'].mean()\n",
    "billboard2021_mean_energy = billboard2021_clean['energy'].mean()\n",
    "\n",
    "# Creating new dataframe and plotting object\n",
    "dance_2021 = [spotify2021_mean_dance, billboard2021_mean_dance]\n",
    "energy_2021 = [spotify2021_mean_energy, billboard2021_mean_energy]\n",
    "index = ['Spotify', 'Billboard']\n",
    "de2021_mean_df = pd.DataFrame({'danceability' : dance_2021, 'energy' : energy_2021}, index = index)"
   ]
  },
  {
   "cell_type": "code",
   "execution_count": 7,
   "id": "63351102",
   "metadata": {},
   "outputs": [
    {
     "data": {
      "image/png": "[encoded data removed]",
      "text/plain": [
       "<Figure size 576x576 with 3 Axes>"
      ]
     },
     "metadata": {
      "needs_background": "light"
     },
     "output_type": "display_data"
    }
   ],
   "source": [
    "# Plotting the means in three subplots\n",
    "fig, axs = plt.subplots(3, figsize = (8,8))\n",
    "fig.suptitle('Mean Danceability/Energy: Spotify vs. Billboard')\n",
    "axs[0] = de2017_mean_df.plot(kind='bar', rot = 0, ax=axs[0])\n",
    "axs[1] = de2020_mean_df.plot(kind='bar', rot = 0, ax = axs[1])\n",
    "axs[2] = de2021_mean_df.plot(kind='bar', rot = 0, ax = axs[2])\n",
    "\n",
    "axs[0].legend(loc = 'lower right')\n",
    "axs[0].set_title('2017')\n",
    "axs[0].set_ylabel('Mean Ratings')\n",
    "axs[1].legend(loc = 'lower right')\n",
    "axs[1].set_title('2020')\n",
    "axs[1].set_ylabel('Mean Ratings')\n",
    "axs[2].legend(loc = 'lower right')\n",
    "axs[2].set_title('2021')\n",
    "axs[2].set_ylabel('Mean Ratings')\n",
    "axs[2].set_xlabel('\\nCharts by Chris & Srinidhi, Source: Spotify and Billboard')\n",
    "fig.tight_layout()\n",
    "plt.show()"
   ]
  },
  {
   "cell_type": "markdown",
   "id": "9056239e",
   "metadata": {},
   "source": [
    "There is not too much difference between the mean danceability and energy between Spotify and Billboard in 2017 – notice the similarity between the heights of the blue bars and orange bars. This could make sense, as perhaps Spotify, as a streaming-exclusive charts, didn't really start deviating from the Billboard charts until more recent years as more people joined the platform and developed their own listening habits. However, the 2020 and 2021 charts were also incredibly similar in terms of danceability and energy, _contradicting our hypothesis_. "
   ]
  },
  {
   "cell_type": "markdown",
   "id": "e6ef79b3",
   "metadata": {},
   "source": [
    "We also hypothesized that the Spotify charts would have a higher average song duration than the Billboard charts. Due to the economics of radio play and fickle listeners who can easily switch stations, it would make sense if songs popular on Billboard stayed shorter, while songs on Spotify could stretch longer without losing listeners, especially since Spotify's artist pages encourage dedicated fanbases to develop.\n",
    "\n",
    "Here, we display the mean duration in seconds in all years by platform: "
   ]
  },
  {
   "cell_type": "code",
   "execution_count": 8,
   "id": "365ef531",
   "metadata": {},
   "outputs": [
    {
     "name": "stdout",
     "output_type": "stream",
     "text": [
      "Chart Mean Duration (sec)       2017     2020     2021\n",
      "---------------------------  -------  -------  -------\n",
      "Spotify                      223.075  197.94   194.426\n",
      "Billboard                    223.301  195.659  192.198\n"
     ]
    }
   ],
   "source": [
    "# Computing means\n",
    "spotify2017_mean_duration = spotify2017_clean['duration_sec'].mean()\n",
    "billboard2017_mean_duration = billboard2017_clean['duration_sec'].mean()\n",
    "\n",
    "spotify2020_mean_duration = spotify2020_clean['duration_sec'].mean()\n",
    "billboard2020_mean_duration = billboard2020_clean['duration_sec'].mean()\n",
    "\n",
    "spotify2021_mean_duration = spotify2021_clean['duration_sec'].mean()\n",
    "billboard2021_mean_duration = billboard2021_clean['duration_sec'].mean()\n",
    "\n",
    "#create data\n",
    "data = [\"Spotify\", spotify2017_clean['duration_sec'].mean(), spotify2020_clean['duration_sec'].mean(), spotify2021_clean['duration_sec'].mean()], [\"Billboard\", billboard2017_clean['duration_sec'].mean(), billboard2020_clean['duration_sec'].mean(), billboard2021_clean['duration_sec'].mean()]\n",
    "#display table\n",
    "print(tabulate(data, headers = [\"Chart Mean Duration (sec)\", \"2017\", \"2020\",  \"2021\"]))"
   ]
  },
  {
   "cell_type": "markdown",
   "id": "b30815ef",
   "metadata": {},
   "source": [
    "This is interesting - there doesn't seem to be any significant difference in mean song length across charts. See how in 2017, mean song length clusters around 223 seconds; in 2020, it clusters around 196 seconds and in 2021, 193 seconds. Of course, mean song lengths at large decreasing in later years could be due to factors outside the scope of this analysis. \n",
    "\n",
    "Here, looking at our inconclusive results in which Billboard and Spotify charts reported very similar metrics, we had a realization. In general, many songs which are popular in the US will be popular across wide swathes of the population - in order words, they will chart on both Spotify and Billboard. **This means that the large overlap in songs between charts may be homogenizing our analyses, resulting in a lack of significant differences in audio characteristics being found.**\n",
    "\n",
    "What if we isolated our analysis to just the songs which appeared _only_ on the Spotify charts, or _only_ on the Billboard charts, in a particular year? In accordance with our initial question, that way we could accurately examine possible explanations for which characteristics make a song popular in a specific chart over the other. "
   ]
  },
  {
   "cell_type": "markdown",
   "id": "f1b8f01f",
   "metadata": {},
   "source": [
    "### What's on One Chart, But Not the Other?"
   ]
  },
  {
   "cell_type": "markdown",
   "id": "c5f6a4ce",
   "metadata": {},
   "source": [
    "This shift in thinking revealed so many new possibilities for our analysis! We decided to grab songs which were on only either the Spotify or Billboard charts in 2017, 2020, and 2021. \n",
    "\n",
    "Because Spotify only provided the top 50 songs in 2020 and 2021 (they provided 98 songs in 2017), while Billboard provides the top 100 songs each year, we had to slice the 2020 and 2021 Billboard datasets to the top 50 songs so as to make more effective comparisons and not distort our data towards Billboard. To find songs unique to each chart, we merged the Billboard and Spotify datasets by song name (finding songs on both charts), and then pulled out which songs did not appear on the merged list. Quickly realizing that some misalignment on how songs were labeled in different charts, and that Billboard counts all remixes of songs as singular entities encompassing the original song, we checked the lists of songs unique to either chart by hand to find and drop some redundant songs. \n",
    "\n",
    "Altogether, we found that: \n",
    "- 2017: 29 songs were on the Spotify charts, but not the Billboard charts, 32 songs were on the Billboard charts, but not the Spotify charts.\n",
    "- 2020: 19 songs Spotify-only, 20 songs Billboard-only\n",
    "- 2021: 15 songs Spotify-only, 16 songs Billboard-only\n",
    "\n",
    "Finally, we merged these songs across years to create _two new datasets_ - one for songs which only charted on Spotify in 2017, 2020, and 2021; and one for songs which only charted on Billboard in the same years. Our remaining analysis is conducted on these datasets."
   ]
  },
  {
   "cell_type": "markdown",
   "id": "d726e66f",
   "metadata": {},
   "source": [
    "### Merged Unique Song Analysis"
   ]
  },
  {
   "cell_type": "markdown",
   "id": "c73a7a42",
   "metadata": {},
   "source": [
    "As it turns out, analysis of the chart-specific datasets proved to be more fruitful than our previous approach. We were able to run a variety of exploratory analyses to better understand the data and its differences. A few of these analyses will be discussed below:"
   ]
  },
  {
   "cell_type": "markdown",
   "id": "a1803356",
   "metadata": {},
   "source": [
    "#### Q1: How do the two charts vary in terms of Spotify's track-level metrics?"
   ]
  },
  {
   "cell_type": "markdown",
   "id": "b10d2c93",
   "metadata": {},
   "source": [
    "First, we wanted to examine if there were any meaningful differences in the audio metrics of the Spotify-only and Billboard-only songs. Due to the large number of metrics, we conducted a k-means cluster analysis on the variables in order to hone in on a few key ones to focus on (for our exact methodology, see **\"Merged Unique Song Analysis (Spotify vs. Billboard).ipynb\"** in the **\"data_analysis\"** folder). We decided to include four variables - _acousticness_, _danceability_, _valence_, and _liveness_. Below is a bar graph that compares the means of these metrics between the Spotify and Billboard lists:"
   ]
  },
  {
   "cell_type": "code",
   "execution_count": 23,
   "id": "12c2c342",
   "metadata": {
    "scrolled": true
   },
   "outputs": [
    {
     "data": {
      "image/png": "[encoded data removed]",
      "text/plain": [
       "<Figure size 432x288 with 1 Axes>"
      ]
     },
     "metadata": {
      "needs_background": "light"
     },
     "output_type": "display_data"
    }
   ],
   "source": [
    "spotify_mean_dance = spotifyonly['danceability'].mean()\n",
    "spotify_mean_valence = spotifyonly['valence'].mean()\n",
    "spotify_mean_acous = spotifyonly['acousticness'].mean()\n",
    "spotify_mean_live = spotifyonly['liveness'].mean()\n",
    "billboard_mean_dance = billboardonly['danceability'].mean()\n",
    "billboard_mean_valence = billboardonly['valence'].mean()\n",
    "billboard_mean_acous = billboardonly['acousticness'].mean()\n",
    "billboard_mean_live = billboardonly['liveness'].mean()\n",
    "\n",
    "# Creating new dataframe and plotting\n",
    "uniquesongdance = [spotify_mean_dance, billboard_mean_dance]\n",
    "uniquesongvalence = [spotify_mean_valence, billboard_mean_valence]\n",
    "uniquesongacous = [spotify_mean_acous, billboard_mean_acous]\n",
    "uniquesonglive = [spotify_mean_live, billboard_mean_live]\n",
    "\n",
    "index = ['Spotify', 'Billboard']\n",
    "de_mean_df = pd.DataFrame({\n",
    "    'danceability' : uniquesongdance, \n",
    "    'valence' : uniquesongvalence,\n",
    "    'liveness' : uniquesonglive,\n",
    "    'acousticness' : uniquesongacous}, index = index)\n",
    "\n",
    "de_mean_df.plot.bar(rot = 0)\n",
    "plt.legend(bbox_to_anchor=(1, 1))\n",
    "plt.title('Mean Danceability/Valence/Acousticness/Liveness: Spotify vs. Billboard')\n",
    "plt.ylabel('Mean Ratings')\n",
    "plt.xlabel('\\nChart by Chris Chien, Source: Spotify and Billboard')\n",
    "plt.show()"
   ]
  },
  {
   "cell_type": "markdown",
   "id": "c88fd8b5",
   "metadata": {},
   "source": [
    "We ultimately did not find any significant difference in mean danceability, liveness, or acousticness between the two charts. However, we do observe that the mean valence of the Billboard-only songs is significantly higher that of the Spotify-only songs. Here's a closer look at valence (as well as energy, a variable that has a moderately strong correlation with valence) in the form of side-by-side boxplots:"
   ]
  },
  {
   "cell_type": "code",
   "execution_count": 35,
   "id": "4065f361",
   "metadata": {
    "scrolled": false
   },
   "outputs": [
    {
     "data": {
      "image/png": "[encoded data removed]",
      "text/plain": [
       "<Figure size 720x288 with 2 Axes>"
      ]
     },
     "metadata": {
      "needs_background": "light"
     },
     "output_type": "display_data"
    }
   ],
   "source": [
    "fig, axs = plt.subplots(1, 2, figsize = (10, 4))\n",
    "fig.suptitle('Mean Valence/Energy: Spotify vs. Billboard')\n",
    "axs[0].boxplot((spotifyonly['valence'], billboardonly['valence']), notch = True)\n",
    "axs[1].boxplot((spotifyonly['energy'], billboardonly['energy']), notch = True)\n",
    "axs[0].set_xticklabels(['Spotify', 'Billboard'])\n",
    "axs[1].set_xticklabels(['Spotify', 'Billboard'])\n",
    "axs[0].set_title('Valence')\n",
    "axs[1].set_title('Energy')\n",
    "fig.text(0.5, 0.01, '\\n Chart by Chris Chien, Source: Spotify and Billboard', ha='center', va='center')\n",
    "fig.tight_layout()\n",
    "plt.show()"
   ]
  },
  {
   "cell_type": "code",
   "execution_count": 11,
   "id": "0a5c97ab",
   "metadata": {},
   "outputs": [
    {
     "name": "stdout",
     "output_type": "stream",
     "text": [
      "                           SPOTIFY                       BILLBOARD                T-VALUE              P-VALUE\n",
      "===================================================================================================================\n",
      "Mean Valence                 0.40                           0.50                   -2.85                0.005\n",
      "Mean Energy                  0.58                           0.63                   -1.91                0.058\n"
     ]
    }
   ],
   "source": [
    "spotify_valmean = spotifyonly['valence'].mean()\n",
    "billboard_valmean = billboardonly['valence'].mean()\n",
    "spotify_energymean = spotifyonly['energy'].mean()\n",
    "billboard_energymean = billboardonly['energy'].mean()\n",
    "t_val, p_val, df_val = sm.ttest_ind(spotifyonly['valence'], billboardonly['valence'])\n",
    "t_energy, p_energy, df_energy = sm.ttest_ind(spotifyonly['energy'], billboardonly['energy'])\n",
    "\n",
    "print(' ' * 27 + 'SPOTIFY' + ' ' * 23 + 'BILLBOARD' + ' ' * 16 + 'T-VALUE' + ' ' * 14 + 'P-VALUE')\n",
    "print('=' * 115)\n",
    "print(f'Mean Valence {spotify_valmean:>20.2f} {billboard_valmean:>30.2f} {t_val:>23.2f} {p_val:20.3f}')\n",
    "print(f'Mean Energy {spotify_energymean:>21.2f} {billboard_energymean:>30.2f} {t_energy:>23.2f} {p_energy:20.3f}')"
   ]
  },
  {
   "cell_type": "markdown",
   "id": "e4bebab5",
   "metadata": {},
   "source": [
    "Here is a more detailed breakdown of the differences. In the above chart, the \"SPOTIFY\" and \"BILLBOARD\" columns refer to the mean values of the metric for each list, while the \"T-VALUE\" and \"P-VALUE\" columns describe the two-sample t-test statistics ($\\alpha$ = 0.05). The difference in mean valence was found to be statistically significant, while the difference in mean energy was on the borderline of significance."
   ]
  },
  {
   "cell_type": "markdown",
   "id": "7c274471",
   "metadata": {},
   "source": [
    "The higher valence and energy of Billboard-only songs makes sense in a real-world context. In today's musical and technological landscape, the convenience and personalization provided by streaming has transformed the public's usage of radio - nowadays most people only listen to it while they're driving. This audience typically seeks out songs that provide \"good vibes\" (high valence) and are relatively upbeat (high energy). Thus, it makes sense that Billboard's charts, which count both radio and streaming, would consist of songs with higher valence and energy than Spotify's charts."
   ]
  },
  {
   "cell_type": "markdown",
   "id": "b407ab60",
   "metadata": {},
   "source": [
    "#### Q2: How do the two charts vary in terms of song duration?"
   ]
  },
  {
   "cell_type": "markdown",
   "id": "de8e3d07",
   "metadata": {},
   "source": [
    "An early hypothesis that we proposed during the initial brainstorming of this research topic concerned a potential difference in song duration between the Spotify and Billboard charts. The influence of short-clip social media platforms such as Tik Tok has led to the rise of relatively short songs that are built around a singular catchy and memeable six-second interval. Meanwhile, practices like radio editing continue to reinforce the homogeneous nature of radio playlists. Thus, we predicted that songs that appear on the streaming-only Spotify chart would be shorter than songs that appear on the Billboard chart. We also predicted that the Billboard chart would cluster around a specific average duration (between 210-240 seconds), while the Spotify chart would have greater diversity in song duration. However, we did not find such trends in the data. Below displays a group of histograms that visualize the distribution of song durations in each dataset:"
   ]
  },
  {
   "cell_type": "code",
   "execution_count": 36,
   "id": "c50494f2",
   "metadata": {},
   "outputs": [
    {
     "data": {
      "image/png": "[encoded data removed]",
      "text/plain": [
       "<Figure size 720x288 with 2 Axes>"
      ]
     },
     "metadata": {
      "needs_background": "light"
     },
     "output_type": "display_data"
    }
   ],
   "source": [
    "fig, axs = plt.subplots(1, 2, figsize = (10, 4))\n",
    "fig.suptitle('Distribution of Song Durations: Spotify vs. Billboard')\n",
    "axs[0].hist(spotifyonly['duration_sec'])\n",
    "axs[1].hist(billboardonly['duration_sec'], color = 'orange')\n",
    "axs[0].set_title('Spotify')\n",
    "axs[0].set_xlabel('Duration (sec)')\n",
    "axs[0].set_xlim(100, 350)\n",
    "axs[0].set_ylim(0, 20)\n",
    "axs[0].locator_params(axis = \"y\", nbins = 10)\n",
    "axs[1].set_title('Billboard')\n",
    "axs[1].set_xlabel('Duration (sec)')\n",
    "axs[1].set_xlim(100, 350)\n",
    "axs[1].set_ylim(0, 20)\n",
    "axs[1].locator_params(axis = \"y\", nbins = 10)\n",
    "fig.text(0.5, 0.01, '\\n Charts by Chris Chien, Source: Spotify and Billboard', ha='center', va='center')\n",
    "fig.tight_layout()\n",
    "plt.show()"
   ]
  },
  {
   "cell_type": "markdown",
   "id": "41285f82",
   "metadata": {},
   "source": [
    "As can be seen, the shape of the distributions are relatively similar. Although it appears that the Billboard chart has a stronger cluster around the average song length, these differences were not found to be statistically significant. One interesting observation is the presence of outliers on both the short and long end of song duration on the Billboard chart. This seems to contradict our original hypothesis of the Billboard chart having less variety in song duration. Ultimately, we did not observe any significant difference in song duration between the Spotify and Billboard charts."
   ]
  },
  {
   "cell_type": "markdown",
   "id": "3cb7d469",
   "metadata": {},
   "source": [
    "### Summary of Findings"
   ]
  },
  {
   "cell_type": "markdown",
   "id": "b5e4c58a",
   "metadata": {},
   "source": [
    "### Takeaways: What Does It All Mean?"
   ]
  },
  {
   "cell_type": "code",
   "execution_count": null,
   "id": "27a260ce",
   "metadata": {},
   "outputs": [],
   "source": []
  }
 ],
 "metadata": {
  "kernelspec": {
   "display_name": "Python 3 (COMM318)",
   "language": "python",
   "name": "python3"
  },
  "language_info": {
   "codemirror_mode": {
    "name": "ipython",
    "version": 3
   },
   "file_extension": ".py",
   "mimetype": "text/x-python",
   "name": "python",
   "nbconvert_exporter": "python",
   "pygments_lexer": "ipython3",
   "version": "3.8.8"
  }
 },
 "nbformat": 4,
 "nbformat_minor": 5
}
